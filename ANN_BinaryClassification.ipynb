{
 "cells": [
  {
   "cell_type": "code",
   "execution_count": 4,
   "id": "5a7c3bfb",
   "metadata": {},
   "outputs": [
    {
     "name": "stdout",
     "output_type": "stream",
     "text": [
      "\u001b[1m44/44\u001b[0m \u001b[32m━━━━━━━━━━━━━━━━━━━━\u001b[0m\u001b[37m\u001b[0m \u001b[1m1s\u001b[0m 1ms/step - loss: 0.9742\n",
      "\u001b[1m11/11\u001b[0m \u001b[32m━━━━━━━━━━━━━━━━━━━━\u001b[0m\u001b[37m\u001b[0m \u001b[1m0s\u001b[0m 6ms/step\n",
      "\u001b[1m11/11\u001b[0m \u001b[32m━━━━━━━━━━━━━━━━━━━━\u001b[0m\u001b[37m\u001b[0m \u001b[1m0s\u001b[0m 1ms/step \n",
      "Accuracy: 62.43 %\n"
     ]
    }
   ],
   "source": [
    "import numpy\n",
    "import pandas\n",
    "from sklearn.model_selection import train_test_split\n",
    "\n",
    "pneumonia_data=pandas.read_csv('C:/Users/000110888/OneDrive - CSULB/Desktop/pneumonia_data.csv')\n",
    "code_gender={'M':1,'F':0}\n",
    "code_tobacco_use={'yes':1,'no':0}\n",
    "code_pneumonia={'yes':1,'no':0}\n",
    "\n",
    "pneumonia_data['gender']=pneumonia_data['gender'].map(code_gender)\n",
    "pneumonia_data['tobacco_use']=pneumonia_data['tobacco_use'].map(code_tobacco_use)\n",
    "pneumonia_data['pneumonia']=pneumonia_data['pneumonia'].map(code_pneumonia)\n",
    "y=pneumonia_data['pneumonia'].values\n",
    "\n",
    "#SCALING VARIABLES TO FALL IN [0,1]\n",
    "from sklearn import preprocessing\n",
    "scaler=preprocessing.MinMaxScaler()\n",
    "scaler_fit=scaler.fit_transform(pneumonia_data)\n",
    "scaled_pneumonia_data=pandas.DataFrame(scaler_fit, columns=pneumonia_data.columns)\n",
    "\n",
    "X=scaled_pneumonia_data.iloc[:,0:4].values\n",
    "y=scaled_pneumonia_data.iloc[:,4].values\n",
    "\n",
    "#SPLITTING DATA INTO 80% TRAINING AND 20% TESTING SETS\n",
    "X_train, X_test, y_train, y_test=train_test_split(X, y, test_size=0.20, \n",
    "random_state=505606)\n",
    "\n",
    "\n",
    "#FITTING AN ARTIFICIAL NEURAL NETWORK\n",
    "import keras\n",
    "from keras.models import Sequential\n",
    "from keras.layers import Dense\n",
    "\n",
    "biclassifier=Sequential()\n",
    "\n",
    "#Defining the input layer and first hidden layer\n",
    "biclassifier.add(Dense(units=3))\n",
    "\n",
    "#Defining the output neuron\n",
    "biclassifier.add(Dense(units=1, activation='tanh'))\n",
    " \n",
    "#Compiling the model\n",
    "biclassifier.compile(loss='binary_crossentropy')\n",
    " \n",
    "#Fitting the ANN to the training set\n",
    "biclassifier.fit(X_train, y_train)\n",
    "\n",
    "\n",
    "#COMPUTING PREDICTION ACCURACY FOR TESTING DATA\n",
    "y_pred=biclassifier.predict(X_test)\n",
    "\n",
    "#COMPUTING PREDICTION ACCURACY FOR TESTING DATA\n",
    "y_pred=numpy.round(biclassifier.predict(X_test),0) #predicted probability of 1\n",
    "\n",
    "from sklearn import metrics\n",
    "print('Accuracy:', round(metrics.accuracy_score(y_test, y_pred)*100, 2),'%')"
   ]
  },
  {
   "cell_type": "code",
   "execution_count": null,
   "id": "a39d86d9-4c01-4a8b-9a1d-1ef6f2b447ea",
   "metadata": {},
   "outputs": [],
   "source": []
  },
  {
   "cell_type": "code",
   "execution_count": null,
   "id": "5c74b787-10e2-4132-abf4-ff1bbacfb04e",
   "metadata": {},
   "outputs": [],
   "source": []
  }
 ],
 "metadata": {
  "kernelspec": {
   "display_name": "Python 3 (ipykernel)",
   "language": "python",
   "name": "python3"
  },
  "language_info": {
   "codemirror_mode": {
    "name": "ipython",
    "version": 3
   },
   "file_extension": ".py",
   "mimetype": "text/x-python",
   "name": "python",
   "nbconvert_exporter": "python",
   "pygments_lexer": "ipython3",
   "version": "3.11.7"
  }
 },
 "nbformat": 4,
 "nbformat_minor": 5
}
