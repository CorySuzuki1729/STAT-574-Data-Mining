{
 "cells": [
  {
   "cell_type": "code",
   "execution_count": 1,
   "metadata": {},
   "outputs": [],
   "source": [
    "import numpy as np\n",
    "import pandas as pd\n",
    "import matplotlib.pyplot as plt\n",
    "from sklearn import tree\n",
    "from sklearn.tree import DecisionTreeClassifier\n",
    "from sklearn.model_selection import train_test_split"
   ]
  },
  {
   "cell_type": "code",
   "execution_count": 2,
   "metadata": {},
   "outputs": [],
   "source": [
    "pneumonia_data = pd.read_csv(\"C:/Users/coryg/OneDrive/Desktop/STAT_574_Data_Mining/pneumonia_data.csv\")\n",
    "code_gender = {'M':1, 'F':0}\n",
    "code_tobacco = {'yes':1, 'no':0}\n",
    "code_pneumonia = {'yes':1, 'no':0}\n",
    "\n",
    "pneumonia_data['gender'] = pneumonia_data['gender'].map(code_gender)\n",
    "pneumonia_data['tobacco_use'] = pneumonia_data['tobacco_use'].map(code_tobacco)\n",
    "pneumonia_data['pneumonia'] = pneumonia_data['pneumonia'].map(code_pneumonia)\n",
    "\n",
    "X = pneumonia_data.iloc[:, 0:4].values \n",
    "y = pneumonia_data.iloc[:, 4].values"
   ]
  },
  {
   "cell_type": "code",
   "execution_count": 4,
   "metadata": {},
   "outputs": [],
   "source": [
    "#Splitting the data into 80% training and 20% testing sets\n",
    "\n",
    "X_train, X_test, y_train, y_test = train_test_split(X, y, test_size=0.20, random_state=786756)\n",
    "\n",
    "#Fitting binary tree with Gini splitting criterion\n",
    "\n",
    "gini_tree = DecisionTreeClassifier(max_leaf_nodes=6, criterion='gini', random_state=199233)\n",
    "gini_tree.fit = gini_tree.fit(X_train, y_train)"
   ]
  },
  {
   "cell_type": "code",
   "execution_count": 5,
   "metadata": {},
   "outputs": [],
   "source": [
    "#Computing confusion matrices and performance measures for testing set for a range of cutoffs\n",
    "\n",
    "y_pred = gini_tree.predict_proba(X_test)\n",
    "total = len(y_pred)\n",
    "\n",
    "cutoff = []\n",
    "accuracy = []\n",
    "misclassrate = []\n",
    "sensitivity = []\n",
    "specificity = []\n",
    "oneminusspec = []\n",
    "distance = []\n",
    "\n",
    "for i in range(99):\n",
    "    tp=0\n",
    "    fp=0\n",
    "    tn=0\n",
    "    fn=0\n",
    "    cutoff.append(0.01*(i+1))\n",
    "    for sub1, sub2 in zip(y_pred[::,1], y_test):\n",
    "        tp_ind=1 if (sub1>0.01*(i+1) and sub2==1) else 0\n",
    "        fp_ind=1 if (sub1>0.01*(i+1) and sub2==0) else 0\n",
    "        tn_ind=1 if (sub1<0.01*(i+1) and sub2==0) else 0\n",
    "        fn_ind=1 if (sub1<0.01*(i+1) and sub2==1) else 0\n",
    "        tp+=tp_ind\n",
    "        fp+=fp_ind\n",
    "        tn+=tn_ind\n",
    "        fn+=fn_ind\n",
    "    accuracy_i = (tp+tn)/total\n",
    "    misclassrate_i = (fp+fn)/total\n",
    "    sensitivity_i = tp/(tp+fn)\n",
    "    specificity_i = tn/(fp+tn)\n",
    "    oneminusspec_i = fp/(fp+tn)\n",
    "    distance_i = np.sqrt(pow(oneminusspec_i,2)+pow(1-sensitivity_i,2))\n",
    "\n",
    "    accuracy.append(accuracy_i)\n",
    "    misclassrate.append(misclassrate_i)\n",
    "    sensitivity.append(sensitivity_i)\n",
    "    specificity.append(specificity_i)\n",
    "    oneminusspec.append(oneminusspec_i)\n",
    "    distance.append(distance_i)"
   ]
  },
  {
   "cell_type": "code",
   "execution_count": 6,
   "metadata": {},
   "outputs": [
    {
     "data": {
      "text/plain": [
       "Text(0, 0.5, 'Sensitivity')"
      ]
     },
     "execution_count": 6,
     "metadata": {},
     "output_type": "execute_result"
    },
    {
     "data": {
      "image/png": "[encoded data removed]",
      "text/plain": [
       "<Figure size 640x480 with 1 Axes>"
      ]
     },
     "metadata": {},
     "output_type": "display_data"
    }
   ],
   "source": [
    "#Plotting ROC Curve\n",
    "\n",
    "plt.plot(oneminusspec, sensitivity, linestyle='--', marker='s')\n",
    "plt.title('ROC Curve')\n",
    "plt.xlabel('1-specificity')\n",
    "plt.ylabel('Sensitivity')"
   ]
  },
  {
   "cell_type": "code",
   "execution_count": 7,
   "metadata": {},
   "outputs": [
    {
     "name": "stdout",
     "output_type": "stream",
     "text": [
      "    accuracy  misclassrate  sensitivity  specificity  oneminusspec  distance  \\\n",
      "27  0.682081      0.317919     0.692308     0.674877      0.325123  0.447638   \n",
      "28  0.682081      0.317919     0.692308     0.674877      0.325123  0.447638   \n",
      "29  0.682081      0.317919     0.692308     0.674877      0.325123  0.447638   \n",
      "30  0.682081      0.317919     0.692308     0.674877      0.325123  0.447638   \n",
      "31  0.682081      0.317919     0.692308     0.674877      0.325123  0.447638   \n",
      "32  0.682081      0.317919     0.692308     0.674877      0.325123  0.447638   \n",
      "33  0.682081      0.317919     0.692308     0.674877      0.325123  0.447638   \n",
      "\n",
      "    cutoff  \n",
      "27    0.28  \n",
      "28    0.29  \n",
      "29    0.30  \n",
      "30    0.31  \n",
      "31    0.32  \n",
      "32    0.33  \n",
      "33    0.34  \n"
     ]
    }
   ],
   "source": [
    "#Reporting measures for the point on the ROC Curve closest to the ideal point (0,1)\n",
    "\n",
    "df = pd.DataFrame({'accuracy':accuracy, 'misclassrate':misclassrate, 'sensitivity':sensitivity,\n",
    "                   'specificity':specificity, 'oneminusspec':oneminusspec, 'distance':distance,\n",
    "                   'cutoff':cutoff})\n",
    "min_distance = min(distance)\n",
    "optimal = df[df['distance'] == min_distance]\n",
    "print(optimal)"
   ]
  },
  {
   "cell_type": "code",
   "execution_count": 10,
   "metadata": {},
   "outputs": [
    {
     "name": "stdout",
     "output_type": "stream",
     "text": [
      "0.7814776561697745\n"
     ]
    }
   ],
   "source": [
    "#Computing area under ROC Curve\n",
    "\n",
    "df = df.sort_values('oneminusspec', ascending=True)\n",
    "df['lagx'] = df['oneminusspec'].shift(1)\n",
    "df['lagy'] = df['sensitivity'].shift(1)\n",
    "df['lagx'] = np.nan_to_num(df['lagx'], nan=0)\n",
    "df['lagy'] = np.nan_to_num(df['lagy'], nan=0)\n",
    "df['trapezoid'] = ((df['oneminusspec']-df['lagx'])*(df['sensitivity']+df['lagy']))/2\n",
    "AUC = sum(df['trapezoid'])\n",
    "print(AUC)"
   ]
  }
 ],
 "metadata": {
  "kernelspec": {
   "display_name": "Python 3",
   "language": "python",
   "name": "python3"
  },
  "language_info": {
   "codemirror_mode": {
    "name": "ipython",
    "version": 3
   },
   "file_extension": ".py",
   "mimetype": "text/x-python",
   "name": "python",
   "nbconvert_exporter": "python",
   "pygments_lexer": "ipython3",
   "version": "3.10.4"
  }
 },
 "nbformat": 4,
 "nbformat_minor": 2
}
