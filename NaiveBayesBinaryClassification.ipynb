{
 "cells": [
  {
   "cell_type": "code",
   "execution_count": 1,
   "id": "4dbd74f3",
   "metadata": {},
   "outputs": [
    {
     "name": "stdout",
     "output_type": "stream",
     "text": [
      "Accuracy: 71.68 %\n"
     ]
    }
   ],
   "source": [
    "import pandas\n",
    "from sklearn.model_selection import train_test_split\n",
    "from sklearn import metrics\n",
    "\n",
    "pneumonia_data=pandas.read_csv('C:/Users/000110888/OneDrive - CSULB/Desktop/pneumonia_data.csv')\n",
    "code_gender={'M':1,'F':0}\n",
    "code_tobacco_use={'yes':1,'no':0}\n",
    "code_pneumonia={'yes':1,'no':0}\n",
    "\n",
    "pneumonia_data['gender']=pneumonia_data['gender'].map(code_gender)\n",
    "pneumonia_data['tobacco_use']=pneumonia_data['tobacco_use'].map(code_tobacco_use)\n",
    "pneumonia_data['pneumonia']=pneumonia_data['pneumonia'].map(code_pneumonia)\n",
    "\n",
    "X=pneumonia_data.iloc[:,0:4].values\n",
    "y=pneumonia_data.iloc[:,4].values\n",
    "\n",
    "#SPLITTING DATA INTO 80% TRAINING AND 20% TESTING SETS\n",
    "X_train, X_test, y_train, y_test=train_test_split(X, y, test_size=0.20, \n",
    "random_state=9994445)\n",
    " \n",
    "#FITTING NAIVE BAYES BINARY CLASSIFIER \n",
    "from sklearn.naive_bayes import GaussianNB\n",
    "gauss_nb=GaussianNB()\n",
    "gauss_nb.fit(X_train, y_train)\n",
    "  \n",
    "#COMPUTING PREDICTION ACCURACY FOR TESTING DATA \n",
    "y_pred = gauss_nb.predict(X_test)\n",
    "print('Accuracy:', round(metrics.accuracy_score(y_test, y_pred)*100, 2),'%')"
   ]
  },
  {
   "cell_type": "code",
   "execution_count": 2,
   "id": "d49d0c3e",
   "metadata": {},
   "outputs": [
    {
     "data": {
      "text/plain": [
       "array([1, 0, 0, ..., 1, 1, 1], dtype=int64)"
      ]
     },
     "execution_count": 2,
     "metadata": {},
     "output_type": "execute_result"
    }
   ],
   "source": [
    "y"
   ]
  },
  {
   "cell_type": "code",
   "execution_count": null,
   "id": "641d9991",
   "metadata": {},
   "outputs": [],
   "source": []
  }
 ],
 "metadata": {
  "kernelspec": {
   "display_name": "Python 3 (ipykernel)",
   "language": "python",
   "name": "python3"
  },
  "language_info": {
   "codemirror_mode": {
    "name": "ipython",
    "version": 3
   },
   "file_extension": ".py",
   "mimetype": "text/x-python",
   "name": "python",
   "nbconvert_exporter": "python",
   "pygments_lexer": "ipython3",
   "version": "3.9.12"
  }
 },
 "nbformat": 4,
 "nbformat_minor": 5
}
