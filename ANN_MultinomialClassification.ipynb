{
 "cells": [
  {
   "cell_type": "code",
   "execution_count": 8,
   "id": "5a7c3bfb",
   "metadata": {},
   "outputs": [
    {
     "name": "stdout",
     "output_type": "stream",
     "text": [
      "\u001b[1m19/19\u001b[0m \u001b[32m━━━━━━━━━━━━━━━━━━━━\u001b[0m\u001b[37m\u001b[0m \u001b[1m1s\u001b[0m 1ms/step - loss: 8.2470\n",
      "\u001b[1m5/5\u001b[0m \u001b[32m━━━━━━━━━━━━━━━━━━━━\u001b[0m\u001b[37m\u001b[0m \u001b[1m0s\u001b[0m 12ms/step\n",
      "accuracy= 0.3158\n"
     ]
    }
   ],
   "source": [
    "import numpy\n",
    "import pandas\n",
    "from sklearn.model_selection import train_test_split\n",
    "from statistics import mean\n",
    "\n",
    "movie_data=pandas.read_csv('C:/Users/000110888/OneDrive - CSULB/Desktop/movie_data_ind.csv') \n",
    "\n",
    "code_gender={'M':1,'F':0}\n",
    "code_member={'yes':1,'no':0}\n",
    "code_rating={'very bad':1,'bad':2,'okay':3,'good':4,'very good':5}\n",
    "\n",
    "movie_data['gender']=movie_data['gender'].map(code_gender)\n",
    "movie_data['member']=movie_data['member'].map(code_member)\n",
    "movie_data['rating']=movie_data['rating'].map(code_rating)\n",
    "\n",
    "#SCALING VARIABLES TO FALL IN [0,1]\n",
    "from sklearn import preprocessing\n",
    "scaler=preprocessing.MinMaxScaler()\n",
    "scaler_fit=scaler.fit_transform(movie_data)\n",
    "scaled_movie_data=pandas.DataFrame(scaler_fit, columns=movie_data.columns)\n",
    "\n",
    "X=scaled_movie_data.iloc[:,0:4].values\n",
    "y=scaled_movie_data.iloc[:,4:10].values\n",
    "\n",
    "#SPLITTING DATA INTO 80% TRAINING AND 20% TESTING SETS\n",
    "X_train, X_test, y_train, y_test=train_test_split(X, y, test_size=0.20, random_state=116008)\n",
    "\n",
    "y_train=y_train[:,1:6]\n",
    "y_true=y_test[:,0]\n",
    "y_test=y_test[:,1:6]\n",
    "\n",
    "#FITTING AN ARTIFICIAL NEURAL NETWORK\n",
    "import keras\n",
    "from keras.models import Sequential\n",
    "from keras.layers import Dense\n",
    "import tensorflow \n",
    "tensorflow.random.set_seed(454545)\n",
    "\n",
    "multiclassifier=Sequential()\n",
    "\n",
    "#Defining one hidden layer\n",
    "multiclassifier.add(Dense(units=3, activation='sigmoid'))\n",
    "\n",
    "#Defining the output neuron\n",
    "multiclassifier.add(Dense(units=5, activation='tanh'))\n",
    " \n",
    "#Compiling the model\n",
    "multiclassifier.compile(loss='categorical_crossentropy')\n",
    " \n",
    "#Fitting the ANN to the training set\n",
    "multiclassifier.fit(X_train, y_train)\n",
    "\n",
    "#COMPUTING PREDICTION ACCURACY FOR TESTING DATA\n",
    "pred_prob=pandas.DataFrame(multiclassifier.predict(X_test))\n",
    "\n",
    "match=[]\n",
    "for i in range(len(y_pred)):\n",
    "    if y_pred[i]==y_true[i]: \n",
    "        match.append(1)\n",
    "    else:\n",
    "        match.append(0)\n",
    "        \n",
    "print('accuracy=', round(mean(match),4))"
   ]
  },
  {
   "cell_type": "code",
   "execution_count": null,
   "id": "87f1fa1b-b78a-4633-868d-bec88e602a9a",
   "metadata": {},
   "outputs": [],
   "source": []
  }
 ],
 "metadata": {
  "kernelspec": {
   "display_name": "Python 3 (ipykernel)",
   "language": "python",
   "name": "python3"
  },
  "language_info": {
   "codemirror_mode": {
    "name": "ipython",
    "version": 3
   },
   "file_extension": ".py",
   "mimetype": "text/x-python",
   "name": "python",
   "nbconvert_exporter": "python",
   "pygments_lexer": "ipython3",
   "version": "3.11.7"
  }
 },
 "nbformat": 4,
 "nbformat_minor": 5
}
