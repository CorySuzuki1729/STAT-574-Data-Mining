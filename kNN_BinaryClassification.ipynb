{
 "cells": [
  {
   "cell_type": "code",
   "execution_count": 8,
   "id": "993394f3",
   "metadata": {
    "scrolled": false
   },
   "outputs": [
    {
     "name": "stdout",
     "output_type": "stream",
     "text": [
      "accuracy= 0.6705202312138728\n"
     ]
    }
   ],
   "source": [
    "import pandas\n",
    "from sklearn.model_selection import train_test_split\n",
    "from sklearn.neighbors import KNeighborsClassifier\n",
    "from statistics import mean\n",
    "\n",
    "pneumonia_data=pandas.read_csv('C:/Users/000110888/OneDrive - CSULB/Desktop/pneumonia_data.csv')\n",
    "code_gender={'M':1,'F':0}\n",
    "code_tobacco_use={'yes':1,'no':0}\n",
    "code_pneumonia={'yes':1,'no':0}\n",
    "\n",
    "pneumonia_data['gender']=pneumonia_data['gender'].map(code_gender)\n",
    "pneumonia_data['tobacco_use']=pneumonia_data['tobacco_use'].map(code_tobacco_use)\n",
    "pneumonia_data['pneumonia']=pneumonia_data['pneumonia'].map(code_pneumonia)\n",
    "\n",
    "X=pneumonia_data.iloc[:,0:4].values\n",
    "y=pneumonia_data.iloc[:,4].values\n",
    "\n",
    "#SPLITTING DATA INTO 80% TRAINING AND 20% TESTING SETS\n",
    "X_train, X_test, y_train, y_test=train_test_split(X, y, test_size=0.20, \n",
    "random_state=459147)\n",
    "\n",
    "#FITTING kNN BINARY CLASSIFIER WITH k=4\n",
    "biclass=KNeighborsClassifier(n_neighbors=87)\n",
    "kNN_biclass=biclass.fit(X_train, y_train)\n",
    "\n",
    "#COMPUTING PREDICTION ACCURACY FOR TESTING DATA\n",
    "y_pred=kNN_biclass.predict(X_test)\n",
    "y_test=pandas.DataFrame(y_test,columns=['pneumonia'])\n",
    "y_pred=pandas.DataFrame(y_pred,columns=['predicted'])\n",
    "df=pandas.concat([y_test,y_pred],axis=1)\n",
    "\n",
    "match=[]\n",
    "for i in range(len(df)):\n",
    "    if df['pneumonia'][i]==df['predicted'][i]: \n",
    "        match.append(1)\n",
    "    else:\n",
    "        match.append(0)\n",
    "\n",
    "print('accuracy=', mean(match))\n"
   ]
  },
  {
   "cell_type": "code",
   "execution_count": null,
   "id": "f309cc44",
   "metadata": {},
   "outputs": [],
   "source": []
  }
 ],
 "metadata": {
  "kernelspec": {
   "display_name": "Python 3 (ipykernel)",
   "language": "python",
   "name": "python3"
  },
  "language_info": {
   "codemirror_mode": {
    "name": "ipython",
    "version": 3
   },
   "file_extension": ".py",
   "mimetype": "text/x-python",
   "name": "python",
   "nbconvert_exporter": "python",
   "pygments_lexer": "ipython3",
   "version": "3.9.12"
  }
 },
 "nbformat": 4,
 "nbformat_minor": 5
}
