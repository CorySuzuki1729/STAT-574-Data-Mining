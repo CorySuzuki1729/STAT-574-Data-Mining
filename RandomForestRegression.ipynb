{
 "cells": [
  {
   "cell_type": "code",
   "execution_count": 26,
   "id": "993394f3",
   "metadata": {
    "scrolled": false
   },
   "outputs": [
    {
     "name": "stdout",
     "output_type": "stream",
     "text": [
      "             var_name  loss_reduction\n",
      "5       median_income        0.592797\n",
      "6     ocean_proximity        0.154105\n",
      "1         total_rooms        0.061499\n",
      "0  housing_median_age        0.053247\n",
      "3          population        0.051611\n",
      "4          households        0.044158\n",
      "2      total_bedrooms        0.042583\n",
      "0.36203866432337434\n",
      "0.5202108963093146\n",
      "0.648506151142355\n"
     ]
    }
   ],
   "source": [
    "import pandas\n",
    "from sklearn.ensemble import RandomForestRegressor\n",
    "from sklearn.model_selection import train_test_split\n",
    "\n",
    "housing=pandas.read_csv('C:/Users/000110888/Desktop/housing_data.csv')\n",
    "coding={'<1H OCEAN': 1, 'INLAND': 2, 'NEAR BAY': 3, 'NEAR OCEAN': 4}\n",
    "housing['ocean_proximity']=housing['ocean_proximity'].map(coding)\n",
    "X=housing.iloc[:,0:7].values\n",
    "y=housing.iloc[:,7].values\n",
    "\n",
    "#SPLITTING DATA INTO 80% TRAINING AND 20% TESTING SETS\n",
    "X_train, X_test, y_train, y_test=train_test_split(X, y, test_size=0.20, \n",
    "random_state=348644)\n",
    "\n",
    "#FITTING RANDOM FOREST REGRESSION TREE \n",
    "rf_reg=RandomForestRegressor(n_estimators=100, random_state=323445, \n",
    "max_depth=50, max_features=4)\n",
    "rf_reg.fit(X_train, y_train)\n",
    "\n",
    "#DISPLAYING VARIABLE IMPORTANCE\n",
    "from sklearn.ensemble import ExtraTreesClassifier\n",
    "\n",
    "var_names=pandas.DataFrame(['housing_median_age','total_rooms','total_bedrooms','population',\n",
    "'households','median_income','ocean_proximity'], columns=['var_name'])\n",
    "loss_reduction=pandas.DataFrame(rf_reg.feature_importances_, columns=['loss_reduction'])\n",
    "var_importance=pandas.concat([var_names, loss_reduction], axis=1) \n",
    "var_importance=var_importance.sort_values(\"loss_reduction\", axis=0, ascending=False)\n",
    "print(var_importance)\n",
    "\n",
    "#COMPUTING PREDICTION ACCURACY FOR TESTING DATA\n",
    "y_pred=rf_reg.predict(X_test)\n",
    "\n",
    "ind10=[]\n",
    "ind15=[]\n",
    "ind20=[]     \n",
    "\n",
    "for sub1, sub2 in zip(y_pred, y_test):\n",
    "    ind10.append(1) if abs(sub1-sub2)<0.10*sub2 else ind10.append(0)\n",
    "    ind15.append(1) if abs(sub1-sub2)<0.15*sub2 else ind15.append(0)\n",
    "    ind20.append(1) if abs(sub1-sub2)<0.20*sub2 else ind20.append(0)\n",
    " \n",
    "#accuracy within 10%\n",
    "accuracy10=sum(ind10)/len(ind10)\n",
    "print(accuracy10)\n",
    "\n",
    "#accuracy within 15%\n",
    "accuracy15=sum(ind15)/len(ind15)\n",
    "print(accuracy15)\n",
    "\n",
    "#accuracy within 20%\n",
    "accuracy20=sum(ind20)/len(ind20)\n",
    "print(accuracy20)\n"
   ]
  },
  {
   "cell_type": "code",
   "execution_count": null,
   "id": "f309cc44",
   "metadata": {},
   "outputs": [],
   "source": []
  }
 ],
 "metadata": {
  "kernelspec": {
   "display_name": "Python 3 (ipykernel)",
   "language": "python",
   "name": "python3"
  },
  "language_info": {
   "codemirror_mode": {
    "name": "ipython",
    "version": 3
   },
   "file_extension": ".py",
   "mimetype": "text/x-python",
   "name": "python",
   "nbconvert_exporter": "python",
   "pygments_lexer": "ipython3",
   "version": "3.9.12"
  }
 },
 "nbformat": 4,
 "nbformat_minor": 5
}
