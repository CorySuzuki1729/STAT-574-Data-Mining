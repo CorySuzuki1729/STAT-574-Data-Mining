{
 "cells": [
  {
   "cell_type": "code",
   "execution_count": 1,
   "metadata": {},
   "outputs": [],
   "source": [
    "import numpy as np\n",
    "import pandas as pd\n",
    "import matplotlib.pyplot as plt\n",
    "from sklearn.tree import DecisionTreeClassifier\n",
    "from sklearn import tree\n",
    "from sklearn.model_selection import train_test_split"
   ]
  },
  {
   "cell_type": "code",
   "execution_count": 2,
   "metadata": {},
   "outputs": [],
   "source": [
    "pneumonia_data = pd.read_csv(\"C:/Users/coryg/OneDrive/Desktop/STAT_574_Data_Mining/pneumonia_data.csv\")\n",
    "code_gender = {'M':1, 'F':0}\n",
    "code_tobacco_use = {'yes':1, 'no':0}\n",
    "code_pneumonia = {'yes':1, 'no':0}\n",
    "\n",
    "pneumonia_data['gender'] = pneumonia_data['gender'].map(code_gender)\n",
    "pneumonia_data['tobacco_use'] = pneumonia_data['tobacco_use'].map(code_tobacco_use)\n",
    "pneumonia_data['pneumonia'] = pneumonia_data['pneumonia'].map(code_pneumonia)\n",
    "\n",
    "X = pneumonia_data.iloc[:,0:4].values\n",
    "y = pneumonia_data.iloc[:,4].values"
   ]
  },
  {
   "cell_type": "code",
   "execution_count": 3,
   "metadata": {},
   "outputs": [],
   "source": [
    "#Splitting data into 80% training and 20% testing.\n",
    "\n",
    "X_train, X_test, y_train, y_test = train_test_split(X, y, test_size=0.20, random_state=199233)\n",
    "\n",
    "#Fitting binary tree with Gini Splitting Criterion\n",
    "\n",
    "gini_tree = DecisionTreeClassifier(max_leaf_nodes=6, criterion='gini', random_state=786756)\n",
    "gini_tree.fit = gini_tree.fit(X_train, y_train)"
   ]
  },
  {
   "cell_type": "code",
   "execution_count": 4,
   "metadata": {},
   "outputs": [
    {
     "name": "stdout",
     "output_type": "stream",
     "text": [
      "tp: 81\n",
      "fp: 45\n",
      "tn: 176\n",
      "fn: 44\n",
      "accuracy: 0.7427745664739884\n",
      "misclassrate: 0.25722543352601157\n",
      "sensitivity: 0.648\n",
      "FNR: 0.352\n",
      "specificity: 0.7963800904977375\n",
      "FPR: 0.20361990950226244\n",
      "precision: 0.6428571428571429\n",
      "NPV: 0.8\n",
      "F1score: 0.6454183266932271\n"
     ]
    }
   ],
   "source": [
    "#Computing confusion matrix and performance measures for testing set\n",
    "\n",
    "y_pred = gini_tree.predict_proba(X_test)\n",
    "\n",
    "total = len(y_pred)\n",
    "tpos = []\n",
    "fpos = []\n",
    "tneg = []\n",
    "fneg = []\n",
    "\n",
    "for sub1, sub2 in zip(y_pred[::,1], y_test):\n",
    "    tpos.append(1) if (sub1>0.5 and sub2==1) else tpos.append(0)\n",
    "    fpos.append(1) if (sub1>0.5 and sub2==0) else fpos.append(0)\n",
    "    tneg.append(1) if (sub1<0.5 and sub2==0) else tneg.append(0)\n",
    "    fneg.append(1) if (sub1<0.5 and sub2==1) else fneg.append(0)\n",
    "    tp = sum(tpos)\n",
    "    fp = sum(fpos)\n",
    "    tn = sum(tneg)\n",
    "    fn = sum(fneg)\n",
    "\n",
    "print('tp:', tp)\n",
    "print('fp:', fp)\n",
    "print('tn:', tn)\n",
    "print('fn:', fn)\n",
    "\n",
    "accuracy = (tp+tn)/total\n",
    "misclassrate = (fp+fn)/total\n",
    "sensitivity = tp/(tp+fn)\n",
    "FNR = fn/(tp+fn)\n",
    "specificity = tn/(fp+tn)\n",
    "FPR = fp/(fp+tn)\n",
    "precision = tp/(tp+fp)\n",
    "NPV = tn/(fn+tn)\n",
    "F1score = 2*tp/(2*tp+fn+fp)\n",
    "\n",
    "print(\"accuracy:\", accuracy)\n",
    "print(\"misclassrate:\", misclassrate)\n",
    "print(\"sensitivity:\", sensitivity)\n",
    "print(\"FNR:\", FNR)\n",
    "print(\"specificity:\", specificity)\n",
    "print(\"FPR:\", FPR)\n",
    "print(\"precision:\", precision)\n",
    "print(\"NPV:\", NPV)\n",
    "print(\"F1score:\", F1score)"
   ]
  }
 ],
 "metadata": {
  "kernelspec": {
   "display_name": "Python 3",
   "language": "python",
   "name": "python3"
  },
  "language_info": {
   "codemirror_mode": {
    "name": "ipython",
    "version": 3
   },
   "file_extension": ".py",
   "mimetype": "text/x-python",
   "name": "python",
   "nbconvert_exporter": "python",
   "pygments_lexer": "ipython3",
   "version": "3.10.4"
  }
 },
 "nbformat": 4,
 "nbformat_minor": 2
}
