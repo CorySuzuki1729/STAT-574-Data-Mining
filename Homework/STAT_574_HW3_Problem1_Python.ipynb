{
 "cells": [
  {
   "cell_type": "code",
   "execution_count": 2,
   "metadata": {},
   "outputs": [
    {
     "name": "stdout",
     "output_type": "stream",
     "text": [
      "Accuracy score: 55.75 %\n"
     ]
    }
   ],
   "source": [
    "# STAT 574 Homework 3 Problem 1\n",
    "\n",
    "import pandas as pd\n",
    "import numpy as np\n",
    "from sklearn.model_selection import train_test_split\n",
    "from sklearn.naive_bayes import GaussianNB\n",
    "from sklearn import metrics\n",
    "\n",
    "card_data = pd.read_csv(\"C:/Users/coryg/OneDrive/Desktop/STAT_574_Data_Mining/card_transdata.csv\")\n",
    "X = card_data.iloc[:, 0:7].values\n",
    "y = card_data.iloc[:, 7].values\n",
    "\n",
    "# Splitting the data into 80% training and 20% testing sets. \n",
    "\n",
    "X_train, X_test, y_train, y_test = train_test_split(X, y, test_size=0.20,\n",
    "                                                    random_state=121406)\n",
    "\n",
    "# Fitting a binary Naive Bayes Classifier. \n",
    "\n",
    "gauss_nb = GaussianNB()\n",
    "gauss_nb.fit(X_train, y_train)\n",
    "\n",
    "# Computing prediction accuracy on testing data. \n",
    "\n",
    "nb_pred = gauss_nb.predict(X_test)\n",
    "accuracy_nb = metrics.accuracy_score(y_test, nb_pred) * 100\n",
    "print(\"Accuracy score:\", round(accuracy_nb, 2), '%')"
   ]
  }
 ],
 "metadata": {
  "kernelspec": {
   "display_name": "Python 3",
   "language": "python",
   "name": "python3"
  },
  "language_info": {
   "codemirror_mode": {
    "name": "ipython",
    "version": 3
   },
   "file_extension": ".py",
   "mimetype": "text/x-python",
   "name": "python",
   "nbconvert_exporter": "python",
   "pygments_lexer": "ipython3",
   "version": "3.10.4"
  }
 },
 "nbformat": 4,
 "nbformat_minor": 2
}
