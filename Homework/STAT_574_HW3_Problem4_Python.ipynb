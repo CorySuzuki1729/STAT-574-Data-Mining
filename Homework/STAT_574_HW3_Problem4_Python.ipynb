{
 "cells": [
  {
   "cell_type": "code",
   "execution_count": null,
   "metadata": {},
   "outputs": [
    {
     "name": "stderr",
     "output_type": "stream",
     "text": [
      "c:\\Users\\coryg\\AppData\\Local\\Programs\\Python\\Python310\\lib\\site-packages\\keras\\src\\layers\\core\\dense.py:87: UserWarning: Do not pass an `input_shape`/`input_dim` argument to a layer. When using Sequential models, prefer using an `Input(shape)` object as the first layer in the model instead.\n",
      "  super().__init__(activity_regularizer=activity_regularizer, **kwargs)\n"
     ]
    },
    {
     "name": "stdout",
     "output_type": "stream",
     "text": [
      "\u001b[1m50/50\u001b[0m \u001b[32m━━━━━━━━━━━━━━━━━━━━\u001b[0m\u001b[37m\u001b[0m \u001b[1m1s\u001b[0m 3ms/step - loss: 0.6485\n",
      "\u001b[1m13/13\u001b[0m \u001b[32m━━━━━━━━━━━━━━━━━━━━\u001b[0m\u001b[37m\u001b[0m \u001b[1m0s\u001b[0m 7ms/step\n",
      "\u001b[1m13/13\u001b[0m \u001b[32m━━━━━━━━━━━━━━━━━━━━\u001b[0m\u001b[37m\u001b[0m \u001b[1m0s\u001b[0m 1ms/step \n",
      "Accuracy: 90.5 %\n"
     ]
    }
   ],
   "source": [
    "# STAT 574 HW3 Problem 4\n",
    "\n",
    "import pandas as pd\n",
    "import numpy as np\n",
    "from sklearn.model_selection import train_test_split\n",
    "import matplotlib.pyplot as plt\n",
    "from statistics import mean\n",
    "from sklearn import preprocessing\n",
    "import tensorflow as tf\n",
    "import keras as keras\n",
    "from sklearn import metrics\n",
    "\n",
    "card_data = pd.read_csv(\"C:/Users/coryg/OneDrive/Desktop/STAT_574_Data_Mining/card_transdata.csv\")\n",
    "\n",
    "# Scaling the data to fall within [0, 1].\n",
    "\n",
    "scaler = preprocessing.MinMaxScaler()\n",
    "scaler_fit = scaler.fit_transform(card_data)\n",
    "scaled_card = pd.DataFrame(scaler_fit, columns=card_data.columns)\n",
    "\n",
    "# Splitting data into 80% training and 20% testing sets.\n",
    "\n",
    "X = scaled_card.iloc[:, 0:7].values\n",
    "y = scaled_card.iloc[:, 7].values\n",
    "\n",
    "X_train, X_test, y_train, y_test = train_test_split(X, y, test_size=0.20,\n",
    "                                random_state=248561)\n",
    "\n",
    "# Constructing ANN for binary classification using the sigmoid activation function in the \n",
    "# output layer.\n",
    "\n",
    "tf.random.set_seed(308618)\n",
    "\n",
    "sigmoid_model = tf.keras.Sequential([\n",
    "    tf.keras.layers.Dense(3, activation=\"relu\", input_shape=(7,)),\n",
    "    tf.keras.layers.Dense(1, activation=\"sigmoid\")\n",
    "])\n",
    "\n",
    "sigmoid_model.compile(optimizer=tf.keras.optimizers.Adam(learning_rate=0.001),\n",
    "                      loss=['binary_crossentropy'])\n",
    "\n",
    "sigmoid_model.fit(X_train, y_train)\n",
    "\n",
    "# Computing prediction accuracy for testing data.\n",
    "\n",
    "sigmoid_pred = sigmoid_model.predict(X_test)\n",
    "sigmoid_pred = np.round(sigmoid_model.predict(X_test), 0)\n",
    "\n",
    "print(\"Accuracy:\", round(metrics.accuracy_score(y_test, sigmoid_pred)*100, 2), '%')\n"
   ]
  },
  {
   "cell_type": "code",
   "execution_count": null,
   "metadata": {},
   "outputs": [
    {
     "name": "stderr",
     "output_type": "stream",
     "text": [
      "c:\\Users\\coryg\\AppData\\Local\\Programs\\Python\\Python310\\lib\\site-packages\\keras\\src\\layers\\core\\dense.py:87: UserWarning: Do not pass an `input_shape`/`input_dim` argument to a layer. When using Sequential models, prefer using an `Input(shape)` object as the first layer in the model instead.\n",
      "  super().__init__(activity_regularizer=activity_regularizer, **kwargs)\n"
     ]
    },
    {
     "name": "stdout",
     "output_type": "stream",
     "text": [
      "\u001b[1m50/50\u001b[0m \u001b[32m━━━━━━━━━━━━━━━━━━━━\u001b[0m\u001b[37m\u001b[0m \u001b[1m1s\u001b[0m 5ms/step - loss: 1.1486\n",
      "\u001b[1m13/13\u001b[0m \u001b[32m━━━━━━━━━━━━━━━━━━━━\u001b[0m\u001b[37m\u001b[0m \u001b[1m0s\u001b[0m 6ms/step\n",
      "\u001b[1m13/13\u001b[0m \u001b[32m━━━━━━━━━━━━━━━━━━━━\u001b[0m\u001b[37m\u001b[0m \u001b[1m0s\u001b[0m 2ms/step \n",
      "Accuracy: 32.75 %\n"
     ]
    }
   ],
   "source": [
    "# Constructing ANN for binary classification using the tanh activation function in the \n",
    "# output layer.\n",
    "\n",
    "tf.random.set_seed(120460)\n",
    "\n",
    "tanh_model = tf.keras.Sequential([\n",
    "    tf.keras.layers.Dense(3, activation=\"relu\", input_shape=(7,)),\n",
    "    tf.keras.layers.Dense(1, activation=\"tanh\")\n",
    "])\n",
    "\n",
    "tanh_model.compile(optimizer=tf.keras.optimizers.Adam(learning_rate=0.001),\n",
    "                      loss=['binary_crossentropy'])\n",
    "\n",
    "tanh_model.fit(X_train, y_train)\n",
    "\n",
    "# Computing prediction accuracy for testing data.\n",
    "\n",
    "tanh_pred = tanh_model.predict(X_test)\n",
    "tanh_pred = np.round(tanh_model.predict(X_test), 0)\n",
    "\n",
    "print(\"Accuracy:\", round(metrics.accuracy_score(y_test, tanh_pred)*100, 2), '%')"
   ]
  }
 ],
 "metadata": {
  "kernelspec": {
   "display_name": "Python 3",
   "language": "python",
   "name": "python3"
  },
  "language_info": {
   "codemirror_mode": {
    "name": "ipython",
    "version": 3
   },
   "file_extension": ".py",
   "mimetype": "text/x-python",
   "name": "python",
   "nbconvert_exporter": "python",
   "pygments_lexer": "ipython3",
   "version": "3.10.4"
  }
 },
 "nbformat": 4,
 "nbformat_minor": 2
}
