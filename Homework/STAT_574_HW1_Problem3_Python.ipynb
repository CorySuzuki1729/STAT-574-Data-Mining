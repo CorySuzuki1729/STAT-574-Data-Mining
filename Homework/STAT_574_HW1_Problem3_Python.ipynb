{
 "cells": [
  {
   "cell_type": "code",
   "execution_count": 1,
   "metadata": {},
   "outputs": [],
   "source": [
    "# STAT 574 HW1 Problem 3 \n",
    "\n",
    "# Import necessary libraries\n",
    "\n",
    "import numpy as np\n",
    "import pandas as pd\n",
    "import matplotlib.pyplot as plt\n",
    "from sklearn.tree import DecisionTreeClassifier\n",
    "from sklearn import tree\n",
    "from sklearn.model_selection import train_test_split"
   ]
  },
  {
   "cell_type": "code",
   "execution_count": 2,
   "metadata": {},
   "outputs": [],
   "source": [
    "# Importing the data\n",
    "\n",
    "card_path = \"C:/Users/coryg/OneDrive/Desktop/STAT_574_Data_Mining/\\\n",
    "card_transdata.csv\"\n",
    "card_data = pd.read_csv(card_path)\n",
    "\n",
    "X = card_data.iloc[:,0:7].values\n",
    "y = card_data.iloc[:,7].values\n",
    "\n",
    "# Splitting the data into 80% training and 20% testing sets\n",
    "\n",
    "X_train, X_test, y_train, y_test = train_test_split(X,y,test_size=0.20,\n",
    "                                                    random_state=122470)\n",
    "\n",
    "# Fitting binary tree with Gini splitting criterion.\n",
    "\n",
    "gini_tree = DecisionTreeClassifier(max_leaf_nodes=7, criterion=\"gini\",\n",
    "                                   random_state=380381)\n",
    "gini_tree_fit = gini_tree.fit(X_train, y_train)"
   ]
  },
  {
   "cell_type": "code",
   "execution_count": 3,
   "metadata": {},
   "outputs": [
    {
     "name": "stdout",
     "output_type": "stream",
     "text": [
      "tp: 40\n",
      "fp: 1\n",
      "tn: 356\n",
      "fn: 3\n"
     ]
    }
   ],
   "source": [
    "# (a) Computing confusion matrix for fitted Gini tree\n",
    "\n",
    "y_pred = gini_tree_fit.predict_proba(X_test)\n",
    "\n",
    "total = len(y_pred)\n",
    "tpos = []\n",
    "fpos = []\n",
    "tneg = []\n",
    "fneg = []\n",
    "\n",
    "for sub1, sub2 in zip(y_pred[::,1], y_test):\n",
    "    tpos.append(1) if (sub1>0.5 and sub2==1) else tpos.append(0)\n",
    "    fpos.append(1) if (sub1>0.5 and sub2==0) else fpos.append(0)\n",
    "    tneg.append(1) if (sub1<0.5 and sub2==0) else tneg.append(0)\n",
    "    fneg.append(1) if (sub1<0.5 and sub2==1) else fneg.append(0)\n",
    "    tp = sum(tpos)\n",
    "    fp = sum(fpos)\n",
    "    tn = sum(tneg)\n",
    "    fn = sum(fneg)\n",
    "\n",
    "print('tp:', tp)\n",
    "print('fp:',  fp)\n",
    "print('tn:', tn)\n",
    "print('fn:', fn)"
   ]
  },
  {
   "cell_type": "code",
   "execution_count": 4,
   "metadata": {},
   "outputs": [
    {
     "name": "stdout",
     "output_type": "stream",
     "text": [
      "accuracy: 0.99\n",
      "misclassification rate: 0.01\n",
      "sensitivity: 0.9302325581395349\n",
      "False Negative Rate: 0.06976744186046512\n",
      "Specificity: 0.9971988795518207\n",
      "False Positive Rate: 0.0028011204481792717\n",
      "Precision: 0.975609756097561\n",
      "Negative Predictive Value: 0.9916434540389972\n",
      "F1 score: 0.9523809523809523\n"
     ]
    }
   ],
   "source": [
    "# (b) Computing the predictive performance measures: accuracy, sensitivity,\n",
    "# misclassification rate, specificity, False negative rate, false positive rate,\n",
    "# precision, negative predictive value, and F1 score.\n",
    "\n",
    "accuracy = (tp+tn)/total\n",
    "misclassrate = (fp+fn)/total\n",
    "sensitivity = tp/(tp+fn)\n",
    "FNR = fn/(tp+fn)\n",
    "specificity = tn/(fp+tn)\n",
    "FPR = fp/(fp+tn)\n",
    "precision = tp/(tp+fp)\n",
    "NPV = tn/(fn+tn)\n",
    "F1score = 2*tp/(2*tp+fn+fp)\n",
    "\n",
    "print(\"accuracy:\", accuracy)\n",
    "print(\"misclassification rate:\", misclassrate)\n",
    "print(\"sensitivity:\", sensitivity)\n",
    "print(\"False Negative Rate:\", FNR)\n",
    "print(\"Specificity:\", specificity)\n",
    "print(\"False Positive Rate:\", FPR)\n",
    "print(\"Precision:\", precision)\n",
    "print(\"Negative Predictive Value:\", NPV)\n",
    "print(\"F1 score:\", F1score)"
   ]
  }
 ],
 "metadata": {
  "kernelspec": {
   "display_name": "Python 3",
   "language": "python",
   "name": "python3"
  },
  "language_info": {
   "codemirror_mode": {
    "name": "ipython",
    "version": 3
   },
   "file_extension": ".py",
   "mimetype": "text/x-python",
   "name": "python",
   "nbconvert_exporter": "python",
   "pygments_lexer": "ipython3",
   "version": "3.10.4"
  }
 },
 "nbformat": 4,
 "nbformat_minor": 2
}
