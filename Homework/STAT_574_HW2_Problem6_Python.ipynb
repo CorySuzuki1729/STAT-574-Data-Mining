{
 "cells": [
  {
   "cell_type": "code",
   "execution_count": 1,
   "metadata": {},
   "outputs": [
    {
     "name": "stdout",
     "output_type": "stream",
     "text": [
      "        var_name  loss_reduction\n",
      "3       prevconc        0.507157\n",
      "2       position        0.411563\n",
      "0            age        0.057314\n",
      "1  nyearsplaying        0.023967\n",
      "0.8571428571428571\n"
     ]
    }
   ],
   "source": [
    "# STAT 574 HW2 Problem 6\n",
    "\n",
    "import pandas as pd\n",
    "from sklearn.model_selection import train_test_split\n",
    "from sklearn.ensemble import GradientBoostingClassifier\n",
    "\n",
    "concussion_data = pd.read_csv(\"C:/Users/coryg/OneDrive/Desktop/STAT_574_Data_Mining/concussions_data.csv\")\n",
    "position_code = {'Offensive Lineman':0, 'Cornerback':1, 'Running Back':2, 'Quarterback':3, 'Wide Receiver':4}\n",
    "concussion_code = {'mild':0, 'moderate':1, 'severe':2}\n",
    "concussion_data['position'] = concussion_data['position'].map(position_code)\n",
    "concussion_data['concussion'] = concussion_data['concussion'].map(concussion_code)\n",
    "\n",
    "X = concussion_data.iloc[:,0:4].values\n",
    "y = concussion_data.iloc[:,4].values\n",
    "\n",
    "# Splitting the data into 80% training and 20% testing sets.\n",
    "\n",
    "X_train, X_test, y_train, y_test = train_test_split(X,y,\n",
    "                test_size=0.20, random_state=104550)\n",
    "\n",
    "# Fitting a multinomial gradient boosting classifier. \n",
    "\n",
    "gb_multi_cls_params = {'n_estimators':1000, 'max_depth':6, 'learning_rate':0.1}\n",
    "gb_multi_cls = GradientBoostingClassifier(**gb_multi_cls_params)\n",
    "gb_multi_cls.fit(X_train, y_train)\n",
    "\n",
    "# Displaying variable importance. \n",
    "\n",
    "var_names=pd.DataFrame(['age', 'nyearsplaying', 'position', 'prevconc'], columns=['var_name'])\n",
    "loss_reduction=pd.DataFrame(gb_multi_cls.feature_importances_, columns=['loss_reduction'])\n",
    "var_importance=pd.concat([var_names, loss_reduction], axis=1) \n",
    "print(var_importance.sort_values(\"loss_reduction\", axis=0, ascending=False))\n",
    "\n",
    "# Computing prediction accuracy on testing set. \n",
    "\n",
    "y_pred=gb_multi_cls.predict(X_test)\n",
    "y_test=pd.DataFrame(y_test,columns=['concussion'])\n",
    "y_pred=pd.DataFrame(y_pred,columns=['predicted'])\n",
    "df=pd.concat([y_test,y_pred],axis=1)\n",
    "\n",
    "match=[]\n",
    "for i in range(len(df)):\n",
    "    if df['concussion'][i]==df['predicted'][i]: \n",
    "        match.append(1)\n",
    "    else:\n",
    "        match.append(0)\n",
    "    \n",
    "accuracy=sum(match)/len(match)\n",
    "\n",
    "print(accuracy)"
   ]
  }
 ],
 "metadata": {
  "kernelspec": {
   "display_name": "Python 3",
   "language": "python",
   "name": "python3"
  },
  "language_info": {
   "codemirror_mode": {
    "name": "ipython",
    "version": 3
   },
   "file_extension": ".py",
   "mimetype": "text/x-python",
   "name": "python",
   "nbconvert_exporter": "python",
   "pygments_lexer": "ipython3",
   "version": "3.10.4"
  }
 },
 "nbformat": 4,
 "nbformat_minor": 2
}
