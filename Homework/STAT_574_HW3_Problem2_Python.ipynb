{
 "cells": [
  {
   "cell_type": "code",
   "execution_count": 1,
   "metadata": {},
   "outputs": [
    {
     "name": "stdout",
     "output_type": "stream",
     "text": [
      "Accuracy: 90.0 %\n"
     ]
    }
   ],
   "source": [
    "# STAT 574 HW3 Problem 2\n",
    "\n",
    "import pandas as pd\n",
    "from sklearn.model_selection import train_test_split\n",
    "from sklearn.naive_bayes import GaussianNB\n",
    "from sklearn import metrics\n",
    "from statistics import mean\n",
    "\n",
    "concussion_data = pd.read_csv(\"C:/Users/coryg/OneDrive/Desktop/STAT_574_Data_Mining/concussions_data.csv\")\n",
    "position_code = {'Offensive Lineman':0, 'Cornerback':1, 'Running Back':2, 'Quarterback':3, 'Wide Receiver':4}\n",
    "concussion_code = {'mild':0, 'moderate':1, 'severe':2}\n",
    "concussion_data['position'] = concussion_data['position'].map(position_code)\n",
    "concussion_data['concussion'] = concussion_data['concussion'].map(concussion_code)\n",
    "X = concussion_data.iloc[:, 0:4].values\n",
    "y = concussion_data.iloc[:, 4].values\n",
    "\n",
    "# Splitting the data into 80% training and 20% testing sets. \n",
    "\n",
    "X_train, X_test, y_train, y_test = train_test_split(X, y, test_size=0.20,\n",
    "                                        random_state=432504)\n",
    "\n",
    "# Fitting a multinomial Naive Bayes Classifier. \n",
    "\n",
    "gaussiannb_multi = GaussianNB()\n",
    "gaussiannb_multi.fit(X_train, y_train)\n",
    "\n",
    "# Computing prediction accuracy for testing set.\n",
    "\n",
    "nb_pred = gaussiannb_multi.predict(X_test)\n",
    "y_test = pd.DataFrame(y_test, columns=['concussion'])\n",
    "nb_pred = pd.DataFrame(nb_pred, columns=['predicted'])\n",
    "df = pd.concat([y_test, nb_pred], axis=1)\n",
    "\n",
    "match = []\n",
    "for i in range(len(df)):\n",
    "    if df['concussion'][i] == df['predicted'][i]:\n",
    "        match.append(1)\n",
    "    else:\n",
    "        match.append(0)\n",
    "\n",
    "print(\"Accuracy:\", round(mean(match), 2)* 100, '%')\n"
   ]
  }
 ],
 "metadata": {
  "kernelspec": {
   "display_name": "Python 3",
   "language": "python",
   "name": "python3"
  },
  "language_info": {
   "codemirror_mode": {
    "name": "ipython",
    "version": 3
   },
   "file_extension": ".py",
   "mimetype": "text/x-python",
   "name": "python",
   "nbconvert_exporter": "python",
   "pygments_lexer": "ipython3",
   "version": "3.10.4"
  }
 },
 "nbformat": 4,
 "nbformat_minor": 2
}
