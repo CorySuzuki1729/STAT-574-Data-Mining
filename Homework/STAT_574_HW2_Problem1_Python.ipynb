{
 "cells": [
  {
   "cell_type": "code",
   "execution_count": 1,
   "metadata": {},
   "outputs": [
    {
     "name": "stdout",
     "output_type": "stream",
     "text": [
      "               var_name  loss_reduction\n",
      "5          surgery_cost        0.607783\n",
      "3                   ASA        0.129775\n",
      "0                gender        0.117167\n",
      "2                   BMI        0.103555\n",
      "4  surgery_duration_min        0.024810\n",
      "1                   age        0.016910\n",
      "0.5275590551181102\n",
      "0.6771653543307087\n",
      "0.7939632545931758\n"
     ]
    }
   ],
   "source": [
    "# STAT 574 Homework 2 Problem 1\n",
    "\n",
    "import pandas as pd\n",
    "from sklearn.ensemble import RandomForestRegressor\n",
    "from sklearn.ensemble import ExtraTreesClassifier\n",
    "from sklearn.model_selection import train_test_split\n",
    "\n",
    "hospital_data = pd.read_csv(\"C:/Users/coryg/OneDrive/Desktop/STAT_574_Data_Mining/hospital_data.csv\")\n",
    "gender_code = {'M':1, 'F':0}\n",
    "hospital_data['gender'] = hospital_data['gender'].map(gender_code)\n",
    "X = hospital_data.iloc[:, 0:6].values\n",
    "y = hospital_data.iloc[:, 6].values\n",
    "\n",
    "#Splitting the data into 80% training and 20% testing sets.\n",
    "X_train, X_test, y_train, y_test=train_test_split(X, y, test_size=0.20, \n",
    "random_state=364470)\n",
    "\n",
    "#Fitting random forest regression tree.\n",
    "rf_reg=RandomForestRegressor(n_estimators=100, random_state=444510, \n",
    "max_depth=50, max_features=4)\n",
    "rf_reg.fit(X_train, y_train)\n",
    "\n",
    "#Displaying variable importance.\n",
    "\n",
    "var_names=pd.DataFrame(['gender', 'age', 'BMI', 'ASA', 'surgery_duration_min',\n",
    "      'surgery_cost'], columns=['var_name'])\n",
    "loss_reduction=pd.DataFrame(rf_reg.feature_importances_, columns=['loss_reduction'])\n",
    "var_importance=pd.concat([var_names, loss_reduction], axis=1) \n",
    "var_importance=var_importance.sort_values(\"loss_reduction\", axis=0, ascending=False)\n",
    "print(var_importance)\n",
    "\n",
    "#Computing prediction accuracy for testing data.\n",
    "y_pred=rf_reg.predict(X_test)\n",
    "\n",
    "ind10=[]\n",
    "ind15=[]\n",
    "ind20=[]     \n",
    "\n",
    "for sub1, sub2 in zip(y_pred, y_test):\n",
    "    ind10.append(1) if abs(sub1-sub2)<0.10*sub2 else ind10.append(0)\n",
    "    ind15.append(1) if abs(sub1-sub2)<0.15*sub2 else ind15.append(0)\n",
    "    ind20.append(1) if abs(sub1-sub2)<0.20*sub2 else ind20.append(0)\n",
    " \n",
    "#accuracy within 10%\n",
    "accuracy10=sum(ind10)/len(ind10)\n",
    "print(accuracy10)\n",
    "\n",
    "#accuracy within 15%\n",
    "accuracy15=sum(ind15)/len(ind15)\n",
    "print(accuracy15)\n",
    "\n",
    "#accuracy within 20%\n",
    "accuracy20=sum(ind20)/len(ind20)\n",
    "print(accuracy20)"
   ]
  }
 ],
 "metadata": {
  "kernelspec": {
   "display_name": "Python 3",
   "language": "python",
   "name": "python3"
  },
  "language_info": {
   "codemirror_mode": {
    "name": "ipython",
    "version": 3
   },
   "file_extension": ".py",
   "mimetype": "text/x-python",
   "name": "python",
   "nbconvert_exporter": "python",
   "pygments_lexer": "ipython3",
   "version": "3.10.4"
  }
 },
 "nbformat": 4,
 "nbformat_minor": 2
}
