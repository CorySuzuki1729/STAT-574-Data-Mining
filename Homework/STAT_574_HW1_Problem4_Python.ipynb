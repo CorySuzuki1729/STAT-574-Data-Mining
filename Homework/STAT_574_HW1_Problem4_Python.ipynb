{
 "cells": [
  {
   "cell_type": "code",
   "execution_count": 1,
   "metadata": {},
   "outputs": [],
   "source": [
    "# STAT 574 HW1 Problem 4\n",
    "\n",
    "# Import necessary libraries\n",
    "\n",
    "import numpy as np\n",
    "import pandas as pd\n",
    "import matplotlib.pyplot as plt\n",
    "from sklearn.tree import DecisionTreeClassifier\n",
    "from sklearn import tree\n",
    "from sklearn.model_selection import train_test_split"
   ]
  },
  {
   "cell_type": "code",
   "execution_count": 2,
   "metadata": {},
   "outputs": [],
   "source": [
    "# Importing the data\n",
    "\n",
    "card_path = \"C:/Users/coryg/OneDrive/Desktop/STAT_574_Data_Mining/\\\n",
    "card_transdata.csv\"\n",
    "card_data = pd.read_csv(card_path)\n",
    "\n",
    "X = card_data.iloc[:,0:7].values\n",
    "y = card_data.iloc[:,7].values\n",
    "\n",
    "# Splitting the data into 80% training and 20% testing sets\n",
    "\n",
    "X_train, X_test, y_train, y_test = train_test_split(X,y,test_size=0.20,\n",
    "                                                    random_state=122470)\n",
    "\n",
    "# Fitting binary tree with Gini splitting criterion.\n",
    "\n",
    "gini_tree = DecisionTreeClassifier(max_leaf_nodes=4, criterion=\"gini\",\n",
    "                                   random_state=380381)\n",
    "gini_tree_fit = gini_tree.fit(X_train, y_train)"
   ]
  },
  {
   "cell_type": "code",
   "execution_count": 3,
   "metadata": {},
   "outputs": [],
   "source": [
    "# (a) Compute prediction accuracy, misclassification rate, sensitivity,\n",
    "# specficity for a range of cutoffs between 0.01 and 0.99.\n",
    "\n",
    "y_pred = gini_tree_fit.predict_proba(X_test)\n",
    "total = len(y_pred)\n",
    "\n",
    "cutoff = []\n",
    "accuracy = []\n",
    "misclassrate = []\n",
    "sensitivity = []\n",
    "specificity = []\n",
    "oneminusspec = []\n",
    "distance = []\n",
    "\n",
    "for i in range(99):\n",
    "    tp=0\n",
    "    fp=0\n",
    "    tn=0\n",
    "    fn=0\n",
    "    cutoff.append(0.01*(i+1))\n",
    "    for sub1, sub2 in zip(y_pred[::,1], y_test):\n",
    "        tp_ind=1 if (sub1>0.01*(i+1) and sub2==1) else 0\n",
    "        fp_ind=1 if (sub1>0.01*(i+1) and sub2==0) else 0\n",
    "        tn_ind=1 if (sub1<0.01*(i+1) and sub2==0) else 0\n",
    "        fn_ind=1 if (sub1<0.01*(i+1) and sub2==1) else 0\n",
    "        tp+=tp_ind\n",
    "        fp+=fp_ind\n",
    "        tn+=tn_ind\n",
    "        fn+=fn_ind\n",
    "    accuracy_i = (tp+tn)/total\n",
    "    misclassrate_i = (fp+fn)/total\n",
    "    sensitivity_i = tp/(tp+fn)\n",
    "    specificity_i = tn/(fp+tn)\n",
    "    oneminusspec_i = fp/(fp+tn)\n",
    "    distance_i = np.sqrt(pow(oneminusspec_i,2)+pow(1-sensitivity_i,2))\n",
    "\n",
    "    accuracy.append(accuracy_i)\n",
    "    misclassrate.append(misclassrate_i)\n",
    "    sensitivity.append(sensitivity_i)\n",
    "    specificity.append(specificity_i)\n",
    "    oneminusspec.append(oneminusspec_i)\n",
    "    distance.append(distance_i)"
   ]
  },
  {
   "cell_type": "code",
   "execution_count": 4,
   "metadata": {},
   "outputs": [
    {
     "data": {
      "text/plain": [
       "Text(0, 0.5, 'Sensitivity')"
      ]
     },
     "execution_count": 4,
     "metadata": {},
     "output_type": "execute_result"
    },
    {
     "data": {
      "image/png": "[encoded data removed]",
      "text/plain": [
       "<Figure size 640x480 with 1 Axes>"
      ]
     },
     "metadata": {},
     "output_type": "display_data"
    }
   ],
   "source": [
    "# (b) Construct a ROC Curve.\n",
    "\n",
    "plt.plot(oneminusspec, sensitivity, linestyle='--', marker='s')\n",
    "plt.title('ROC Curve')\n",
    "plt.xlabel('1-specificity')\n",
    "plt.ylabel('Sensitivity')"
   ]
  },
  {
   "cell_type": "code",
   "execution_count": 5,
   "metadata": {},
   "outputs": [
    {
     "name": "stdout",
     "output_type": "stream",
     "text": [
      "    accuracy  misclassrate  sensitivity  specificity  oneminusspec  distance  \\\n",
      "7       0.96          0.04     0.930233     0.963585      0.036415  0.078699   \n",
      "8       0.96          0.04     0.930233     0.963585      0.036415  0.078699   \n",
      "9       0.96          0.04     0.930233     0.963585      0.036415  0.078699   \n",
      "10      0.96          0.04     0.930233     0.963585      0.036415  0.078699   \n",
      "11      0.96          0.04     0.930233     0.963585      0.036415  0.078699   \n",
      "12      0.96          0.04     0.930233     0.963585      0.036415  0.078699   \n",
      "13      0.96          0.04     0.930233     0.963585      0.036415  0.078699   \n",
      "14      0.96          0.04     0.930233     0.963585      0.036415  0.078699   \n",
      "15      0.96          0.04     0.930233     0.963585      0.036415  0.078699   \n",
      "16      0.96          0.04     0.930233     0.963585      0.036415  0.078699   \n",
      "17      0.96          0.04     0.930233     0.963585      0.036415  0.078699   \n",
      "18      0.96          0.04     0.930233     0.963585      0.036415  0.078699   \n",
      "19      0.96          0.04     0.930233     0.963585      0.036415  0.078699   \n",
      "20      0.96          0.04     0.930233     0.963585      0.036415  0.078699   \n",
      "21      0.96          0.04     0.930233     0.963585      0.036415  0.078699   \n",
      "22      0.96          0.04     0.930233     0.963585      0.036415  0.078699   \n",
      "23      0.96          0.04     0.930233     0.963585      0.036415  0.078699   \n",
      "24      0.96          0.04     0.930233     0.963585      0.036415  0.078699   \n",
      "25      0.96          0.04     0.930233     0.963585      0.036415  0.078699   \n",
      "26      0.96          0.04     0.930233     0.963585      0.036415  0.078699   \n",
      "27      0.96          0.04     0.930233     0.963585      0.036415  0.078699   \n",
      "28      0.96          0.04     0.930233     0.963585      0.036415  0.078699   \n",
      "29      0.96          0.04     0.930233     0.963585      0.036415  0.078699   \n",
      "30      0.96          0.04     0.930233     0.963585      0.036415  0.078699   \n",
      "31      0.96          0.04     0.930233     0.963585      0.036415  0.078699   \n",
      "32      0.96          0.04     0.930233     0.963585      0.036415  0.078699   \n",
      "33      0.96          0.04     0.930233     0.963585      0.036415  0.078699   \n",
      "34      0.96          0.04     0.930233     0.963585      0.036415  0.078699   \n",
      "35      0.96          0.04     0.930233     0.963585      0.036415  0.078699   \n",
      "36      0.96          0.04     0.930233     0.963585      0.036415  0.078699   \n",
      "37      0.96          0.04     0.930233     0.963585      0.036415  0.078699   \n",
      "38      0.96          0.04     0.930233     0.963585      0.036415  0.078699   \n",
      "39      0.96          0.04     0.930233     0.963585      0.036415  0.078699   \n",
      "40      0.96          0.04     0.930233     0.963585      0.036415  0.078699   \n",
      "41      0.96          0.04     0.930233     0.963585      0.036415  0.078699   \n",
      "42      0.96          0.04     0.930233     0.963585      0.036415  0.078699   \n",
      "43      0.96          0.04     0.930233     0.963585      0.036415  0.078699   \n",
      "44      0.96          0.04     0.930233     0.963585      0.036415  0.078699   \n",
      "45      0.96          0.04     0.930233     0.963585      0.036415  0.078699   \n",
      "\n",
      "    cutoff  \n",
      "7     0.08  \n",
      "8     0.09  \n",
      "9     0.10  \n",
      "10    0.11  \n",
      "11    0.12  \n",
      "12    0.13  \n",
      "13    0.14  \n",
      "14    0.15  \n",
      "15    0.16  \n",
      "16    0.17  \n",
      "17    0.18  \n",
      "18    0.19  \n",
      "19    0.20  \n",
      "20    0.21  \n",
      "21    0.22  \n",
      "22    0.23  \n",
      "23    0.24  \n",
      "24    0.25  \n",
      "25    0.26  \n",
      "26    0.27  \n",
      "27    0.28  \n",
      "28    0.29  \n",
      "29    0.30  \n",
      "30    0.31  \n",
      "31    0.32  \n",
      "32    0.33  \n",
      "33    0.34  \n",
      "34    0.35  \n",
      "35    0.36  \n",
      "36    0.37  \n",
      "37    0.38  \n",
      "38    0.39  \n",
      "39    0.40  \n",
      "40    0.41  \n",
      "41    0.42  \n",
      "42    0.43  \n",
      "43    0.44  \n",
      "44    0.45  \n",
      "45    0.46  \n"
     ]
    }
   ],
   "source": [
    "# (c) Compute the minimal distance between the ROC Curve and the ideal\n",
    "# point (0,1) and output accuracy, misclassification rate, sensitivity,\n",
    "# specificity, and cutoff that corresponds to the minimal distance.\n",
    "\n",
    "df = pd.DataFrame({'accuracy':accuracy, 'misclassrate':misclassrate, 'sensitivity':sensitivity,\n",
    "                   'specificity':specificity, 'oneminusspec':oneminusspec, 'distance':distance,\n",
    "                   'cutoff':cutoff})\n",
    "min_distance = min(distance)\n",
    "optimal = df[df['distance'] == min_distance]\n",
    "print(optimal)"
   ]
  },
  {
   "cell_type": "code",
   "execution_count": 8,
   "metadata": {},
   "outputs": [
    {
     "name": "stdout",
     "output_type": "stream",
     "text": [
      "0.9412741840922415\n"
     ]
    }
   ],
   "source": [
    "# (d) Compute the area under the ROC Curve\n",
    "\n",
    "df = df.sort_values('oneminusspec', ascending=True)\n",
    "df['lagx'] = df['oneminusspec'].shift(1)\n",
    "df['lagy'] = df['sensitivity'].shift(1)\n",
    "df['lagx'] = np.nan_to_num(df['lagx'], nan=0)\n",
    "df['lagy'] = np.nan_to_num(df['lagy'], nan=0)\n",
    "df['trapezoid'] = ((df['oneminusspec']-df['lagx'])*(df['sensitivity']+df['lagy']))/2\n",
    "AUC = 1 - sum(df['trapezoid'])\n",
    "print(AUC)"
   ]
  }
 ],
 "metadata": {
  "kernelspec": {
   "display_name": "Python 3",
   "language": "python",
   "name": "python3"
  },
  "language_info": {
   "codemirror_mode": {
    "name": "ipython",
    "version": 3
   },
   "file_extension": ".py",
   "mimetype": "text/x-python",
   "name": "python",
   "nbconvert_exporter": "python",
   "pygments_lexer": "ipython3",
   "version": "3.10.4"
  }
 },
 "nbformat": 4,
 "nbformat_minor": 2
}
