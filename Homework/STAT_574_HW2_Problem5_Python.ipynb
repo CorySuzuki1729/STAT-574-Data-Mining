{
 "cells": [
  {
   "cell_type": "code",
   "execution_count": 2,
   "metadata": {},
   "outputs": [
    {
     "name": "stdout",
     "output_type": "stream",
     "text": [
      "                         var_name  loss_reduction\n",
      "2  ratio_to_median_purchase_price        0.407621\n",
      "6                    online_order        0.271699\n",
      "5                 used_pin_number        0.118814\n",
      "0              distance_from_home        0.112464\n",
      "4                       used_chip        0.064915\n",
      "1  distance_from_last_transaction        0.024487\n",
      "3                 repeat_retailer        0.000000\n",
      "0.9975\n"
     ]
    }
   ],
   "source": [
    "# STAT 574 HW2 Problem 5\n",
    "\n",
    "import pandas as pd\n",
    "from sklearn.model_selection import train_test_split\n",
    "from sklearn.ensemble import GradientBoostingClassifier\n",
    "\n",
    "card_data = pd.read_csv(\"C:/Users/coryg/OneDrive/Desktop/STAT_574_Data_Mining/card_transdata.csv\")\n",
    "X = card_data.iloc[:, 0:7].values \n",
    "y = card_data.iloc[:, 7].values \n",
    "\n",
    "# Splitting the data into 80% training and 20% testing sets. \n",
    "\n",
    "X_train, X_test, y_train, y_test = train_test_split(X, y,\n",
    "                test_size=0.20, random_state=876424)\n",
    "\n",
    "# Fitting a Binary Gradient Boosting Classifier. \n",
    "\n",
    "gbbinary_params = {'n_estimators': 1000, 'max_depth':7, \n",
    "                   'learning_rate':0.1}\n",
    "gbbinary_cls = GradientBoostingClassifier(**gbbinary_params)\n",
    "gbbinary_cls.fit(X_train, y_train)\n",
    "\n",
    "# Displaying variable importance. \n",
    "\n",
    "var_names=pd.DataFrame(['distance_from_home',\n",
    "    'distance_from_last_transaction', 'ratio_to_median_purchase_price',\n",
    "    'repeat_retailer', 'used_chip', 'used_pin_number', 'online_order'], columns=['var_name'])\n",
    "loss_reduction=pd.DataFrame(gbbinary_cls.feature_importances_, columns=['loss_reduction'])\n",
    "var_importance=pd.concat([var_names, loss_reduction], axis=1) \n",
    "print(var_importance.sort_values(\"loss_reduction\", axis=0, ascending=False))\n",
    "\n",
    "# Computing prediction accuracy on testing data. \n",
    "\n",
    "y_pred=gbbinary_cls.predict(X_test)\n",
    "y_test=pd.DataFrame(y_test,columns=['fraud'])\n",
    "y_pred=pd.DataFrame(y_pred,columns=['predicted'])\n",
    "df=pd.concat([y_test,y_pred],axis=1)\n",
    "\n",
    "match=[]\n",
    "for i in range(len(df)):\n",
    "    if df['fraud'][i]==df['predicted'][i]: \n",
    "        match.append(1)\n",
    "    else:\n",
    "        match.append(0)\n",
    "    \n",
    "accuracy=sum(match)/len(match)\n",
    "\n",
    "print(accuracy)"
   ]
  }
 ],
 "metadata": {
  "kernelspec": {
   "display_name": "Python 3",
   "language": "python",
   "name": "python3"
  },
  "language_info": {
   "codemirror_mode": {
    "name": "ipython",
    "version": 3
   },
   "file_extension": ".py",
   "mimetype": "text/x-python",
   "name": "python",
   "nbconvert_exporter": "python",
   "pygments_lexer": "ipython3",
   "version": "3.10.4"
  }
 },
 "nbformat": 4,
 "nbformat_minor": 2
}
