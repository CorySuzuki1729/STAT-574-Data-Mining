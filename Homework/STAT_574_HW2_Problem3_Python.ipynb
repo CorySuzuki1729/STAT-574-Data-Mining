{
 "cells": [
  {
   "cell_type": "code",
   "execution_count": 6,
   "metadata": {},
   "outputs": [
    {
     "name": "stdout",
     "output_type": "stream",
     "text": [
      "        var_name  loss_reduction\n",
      "3       prevconc        0.496968\n",
      "2       position        0.377248\n",
      "0            age        0.080299\n",
      "1  nyearsplaying        0.045484\n",
      "0.9333333333333333\n"
     ]
    }
   ],
   "source": [
    "# STAT 574 HW2 Problem 3\n",
    "\n",
    "import pandas as pd\n",
    "from sklearn.model_selection import train_test_split\n",
    "from sklearn.ensemble import RandomForestClassifier \n",
    "from sklearn.ensemble import ExtraTreesClassifier\n",
    "\n",
    "concussion_data = pd.read_csv(\"C:/Users/coryg/OneDrive/Desktop/STAT_574_Data_Mining/concussions_data.csv\")\n",
    "position_code = {'Offensive Lineman':0, 'Cornerback':1, 'Running Back':2, 'Quarterback':3, 'Wide Receiver':4}\n",
    "concussion_code = {'mild':0, 'moderate':1, 'severe':2}\n",
    "concussion_data['position'] = concussion_data['position'].map(position_code)\n",
    "concussion_data['concussion'] = concussion_data['concussion'].map(concussion_code)\n",
    "\n",
    "X = concussion_data.iloc[:,0:4].values\n",
    "y = concussion_data.iloc[:,4].values\n",
    "\n",
    "# Split data into 80% training and 20% testing sets.\n",
    "\n",
    "X_train, X_test, y_train, y_test = train_test_split(X,y,\n",
    "                                                    test_size=0.20,\n",
    "                                random_state=576485)\n",
    "\n",
    "# Fitting random forest multinomial classifier.\n",
    "\n",
    "rf_multi_cls = RandomForestClassifier(n_estimators=150, \n",
    "        random_state=690233, max_depth=50, max_features=4)\n",
    "rf_multi_cls.fit(X_train, y_train)\n",
    "\n",
    "# Displaying variable importance. \n",
    "\n",
    "var_names = pd.DataFrame(['age', 'nyearsplaying', 'position', 'prevconc'],\n",
    "                         columns=['var_name'])\n",
    "loss_reduction = pd.DataFrame(rf_multi_cls.feature_importances_, columns=['loss_reduction'])\n",
    "var_importance = pd.concat([var_names, loss_reduction], axis=1)\n",
    "var_importance = var_importance.sort_values(\"loss_reduction\", axis=0, ascending=False)\n",
    "print(var_importance)\n",
    "\n",
    "# Computing prediction accuracy for testing data. \n",
    "\n",
    "y_pred=rf_multi_cls.predict(X_test)\n",
    "y_test=pd.DataFrame(y_test,columns=['concussion'])\n",
    "y_pred=pd.DataFrame(y_pred,columns=['predicted'])\n",
    "df=pd.concat([y_test,y_pred],axis=1)\n",
    "\n",
    "match=[]\n",
    "for i in range(len(df)):\n",
    "    if df['concussion'][i]==df['predicted'][i]: \n",
    "        match.append(1)\n",
    "    else:\n",
    "        match.append(0)\n",
    "    \n",
    "accuracy=sum(match)/len(match)\n",
    "\n",
    "print(accuracy)"
   ]
  }
 ],
 "metadata": {
  "kernelspec": {
   "display_name": "Python 3",
   "language": "python",
   "name": "python3"
  },
  "language_info": {
   "codemirror_mode": {
    "name": "ipython",
    "version": 3
   },
   "file_extension": ".py",
   "mimetype": "text/x-python",
   "name": "python",
   "nbconvert_exporter": "python",
   "pygments_lexer": "ipython3",
   "version": "3.10.4"
  }
 },
 "nbformat": 4,
 "nbformat_minor": 2
}
