{
 "cells": [
  {
   "cell_type": "code",
   "execution_count": 1,
   "metadata": {},
   "outputs": [
    {
     "name": "stdout",
     "output_type": "stream",
     "text": [
      "                         var_name  loss_reduction\n",
      "2  ratio_to_median_purchase_price        0.384837\n",
      "0              distance_from_home        0.201095\n",
      "6                    online_order        0.178875\n",
      "5                 used_pin_number        0.098834\n",
      "1  distance_from_last_transaction        0.088171\n",
      "4                       used_chip        0.044444\n",
      "3                 repeat_retailer        0.003744\n",
      "0.9925\n"
     ]
    }
   ],
   "source": [
    "import pandas as pd\n",
    "from sklearn.model_selection import train_test_split\n",
    "from sklearn.ensemble import RandomForestClassifier\n",
    "from sklearn.ensemble import ExtraTreesClassifier\n",
    "\n",
    "card_data = pd.read_csv(\"C:/Users/coryg/OneDrive/Desktop/STAT_574_Data_Mining/card_transdata.csv\")\n",
    "X = card_data.iloc[:, 0:7].values\n",
    "y = card_data.iloc[:, 7].values\n",
    "\n",
    "# Splitting data into 80% training and 20% testing sets.\n",
    "\n",
    "X_train, X_test, y_train, y_test = train_test_split(X, y,\n",
    "                                                    test_size=0.20,\n",
    "                                            random_state=698498)\n",
    "\n",
    "# Fitting random forest binary classifier.\n",
    "\n",
    "rf_card_binary = RandomForestClassifier(n_estimators=150,\n",
    "                                        criterion='entropy',\n",
    "                                        random_state=233122,\n",
    "                                        max_depth=50,\n",
    "                                        max_features=7)\n",
    "\n",
    "rf_card_binary.fit(X_train, y_train)\n",
    "\n",
    "# Displaying variable importance.\n",
    "\n",
    "var_names=pd.DataFrame(['distance_from_home',\n",
    "    'distance_from_last_transaction', 'ratio_to_median_purchase_price',\n",
    "    'repeat_retailer', 'used_chip', 'used_pin_number', 'online_order'], columns=['var_name'])\n",
    "loss_reduction=pd.DataFrame(rf_card_binary.feature_importances_, columns=['loss_reduction'])\n",
    "var_importance=pd.concat([var_names, loss_reduction], axis=1) \n",
    "var_importance=var_importance.sort_values(\"loss_reduction\", axis=0, ascending=False)\n",
    "print(var_importance)\n",
    "\n",
    "#COMPUTING PREDICTION ACCURACY FOR TESTING DATA\n",
    "y_pred=rf_card_binary.predict(X_test)\n",
    "y_test=pd.DataFrame(y_test,columns=['fraud'])\n",
    "y_pred=pd.DataFrame(y_pred,columns=['predicted'])\n",
    "df=pd.concat([y_test,y_pred],axis=1)\n",
    "\n",
    "match=[]\n",
    "for i in range(len(df)):\n",
    "    if df['fraud'][i]==df['predicted'][i]: \n",
    "        match.append(1)\n",
    "    else:\n",
    "        match.append(0)\n",
    "    \n",
    "accuracy=sum(match)/len(match)\n",
    "\n",
    "print(accuracy)\n"
   ]
  }
 ],
 "metadata": {
  "kernelspec": {
   "display_name": "Python 3",
   "language": "python",
   "name": "python3"
  },
  "language_info": {
   "codemirror_mode": {
    "name": "ipython",
    "version": 3
   },
   "file_extension": ".py",
   "mimetype": "text/x-python",
   "name": "python",
   "nbconvert_exporter": "python",
   "pygments_lexer": "ipython3",
   "version": "3.10.4"
  }
 },
 "nbformat": 4,
 "nbformat_minor": 2
}
