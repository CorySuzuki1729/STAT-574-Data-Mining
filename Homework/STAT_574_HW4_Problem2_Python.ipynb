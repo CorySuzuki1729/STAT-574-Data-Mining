{
 "cells": [
  {
   "cell_type": "code",
   "execution_count": 4,
   "metadata": {},
   "outputs": [],
   "source": [
    "import yfinance as yf\n",
    "import numpy as np\n",
    "import pandas as pd\n",
    "import matplotlib.pyplot as plt\n",
    "from sklearn.metrics import mean_squared_error\n",
    "from statistics import mean\n",
    "from tensorflow.keras.models import Sequential\n",
    "from tensorflow.keras.layers import Dense, LSTM, GRU\n",
    "\n",
    "cvx_data = pd.read_csv(\"C:/Users/coryg/OneDrive/Desktop/STAT_574_Data_Mining/CVX_historical_data_shock.csv\",\n",
    "                       index_col=\"Date\", parse_dates=[\"Date\"])\n",
    "cvx_data = cvx_data.drop([\"Close\"], axis=1)\n",
    "\n",
    "# Splitting the data into training and testing sets. \n",
    "\n",
    "train = cvx_data[cvx_data.index < pd.to_datetime(\"2022-01-02\", format='%Y-%m-%d')]\n",
    "test = cvx_data[cvx_data.index >= pd.to_datetime(\"2022-01-02\", format='%Y-%m-%d')]\n",
    "\n",
    "train_set = train.loc[:, \"Shock\"].values\n",
    "test_set = test.loc[:, \"Shock\"].values\n",
    "\n",
    "# Splitting training data into samples. \n",
    "\n",
    "nsteps=60\n",
    "\n",
    "def split_sequence(sequence):\n",
    "    x, y = list(), list()\n",
    "    for i in range(len(sequence)):\n",
    "        end_i = i + nsteps\n",
    "        if end_i > len(sequence)-1:\n",
    "            break\n",
    "        seq_x, seq_y = sequence[i:end_i], sequence[end_i]\n",
    "        x.append(seq_x)\n",
    "        y.append(seq_y)\n",
    "    return np.array(x), np.array(y)\n",
    "\n",
    "train_x, train_y = split_sequence(train_set)"
   ]
  },
  {
   "cell_type": "code",
   "execution_count": 6,
   "metadata": {},
   "outputs": [
    {
     "name": "stdout",
     "output_type": "stream",
     "text": [
      "Epoch 1/5\n"
     ]
    },
    {
     "name": "stderr",
     "output_type": "stream",
     "text": [
      "c:\\Users\\coryg\\AppData\\Local\\Programs\\Python\\Python310\\lib\\site-packages\\keras\\src\\layers\\rnn\\rnn.py:204: UserWarning: Do not pass an `input_shape`/`input_dim` argument to a layer. When using Sequential models, prefer using an `Input(shape)` object as the first layer in the model instead.\n",
      "  super().__init__(**kwargs)\n"
     ]
    },
    {
     "name": "stdout",
     "output_type": "stream",
     "text": [
      "\u001b[1m93/93\u001b[0m \u001b[32m━━━━━━━━━━━━━━━━━━━━\u001b[0m\u001b[37m\u001b[0m \u001b[1m2s\u001b[0m 9ms/step - loss: 0.5266\n",
      "Epoch 2/5\n",
      "\u001b[1m93/93\u001b[0m \u001b[32m━━━━━━━━━━━━━━━━━━━━\u001b[0m\u001b[37m\u001b[0m \u001b[1m1s\u001b[0m 9ms/step - loss: 0.4353\n",
      "Epoch 3/5\n",
      "\u001b[1m93/93\u001b[0m \u001b[32m━━━━━━━━━━━━━━━━━━━━\u001b[0m\u001b[37m\u001b[0m \u001b[1m1s\u001b[0m 9ms/step - loss: 0.4260\n",
      "Epoch 4/5\n",
      "\u001b[1m93/93\u001b[0m \u001b[32m━━━━━━━━━━━━━━━━━━━━\u001b[0m\u001b[37m\u001b[0m \u001b[1m1s\u001b[0m 9ms/step - loss: 0.4176\n",
      "Epoch 5/5\n",
      "\u001b[1m93/93\u001b[0m \u001b[32m━━━━━━━━━━━━━━━━━━━━\u001b[0m\u001b[37m\u001b[0m \u001b[1m1s\u001b[0m 9ms/step - loss: 0.3981\n",
      "\u001b[1m16/16\u001b[0m \u001b[32m━━━━━━━━━━━━━━━━━━━━\u001b[0m\u001b[37m\u001b[0m \u001b[1m0s\u001b[0m 13ms/step\n",
      "    accuracy  cut-off\n",
      "0   0.954092     0.01\n",
      "1   0.954092     0.02\n",
      "2   0.954092     0.03\n",
      "3   0.954092     0.04\n",
      "4   0.954092     0.05\n",
      "..       ...      ...\n",
      "74  0.954092     0.75\n",
      "75  0.954092     0.76\n",
      "76  0.954092     0.77\n",
      "77  0.954092     0.78\n",
      "78  0.954092     0.79\n",
      "\n",
      "[79 rows x 2 columns]\n"
     ]
    }
   ],
   "source": [
    "# Fitting LSTM Model\n",
    "\n",
    "features=1\n",
    "train_x = train_x.reshape(train_x.shape[0], train_x.shape[1], features)\n",
    "\n",
    "model_lstm = Sequential()\n",
    "model_lstm.add(LSTM(units=6, activation=\"sigmoid\", input_shape=(nsteps, features)))\n",
    "model_lstm.add(Dense(units=1))\n",
    "\n",
    "model_lstm.compile(loss=\"binary_crossentropy\")\n",
    "model_lstm.fit(train_x, train_y, epochs=5, batch_size=32)\n",
    "inputs = cvx_data.loc[:,\"Shock\"][len(cvx_data.loc[:,\"Shock\"])-len(test_set)-nsteps :].values\n",
    "\n",
    "test_x, test_y = split_sequence(inputs)\n",
    "test_x = test_x.reshape(test_x.shape[0], test_x.shape[1], features)\n",
    "\n",
    "pred_prob = model_lstm.predict(test_x)\n",
    "\n",
    "cutoff = []\n",
    "accuracy = []\n",
    "for i in range(99):\n",
    "    tp=0\n",
    "    tn=0\n",
    "    cutoff.append(0.01*(i+1))\n",
    "    for sub1, sub2 in zip(pred_prob, test_y):\n",
    "        tp_ind = 1 if (sub1>0.01*(i+1) and sub2==1) else 0\n",
    "        tn_ind = 1 if (sub1<0.01*(i+1) and sub2==0) else 0\n",
    "        tp+=tp_ind\n",
    "        tn+=tn_ind\n",
    "    accuracy_i = (tp+tn)/len(pred_prob)\n",
    "    accuracy.append(accuracy_i)\n",
    "\n",
    "df = pd.DataFrame({'accuracy': accuracy, 'cut-off':cutoff})\n",
    "max_accuracy = max(accuracy)\n",
    "optimal=df[df['accuracy']==max_accuracy]\n",
    "print(optimal)"
   ]
  },
  {
   "cell_type": "code",
   "execution_count": 8,
   "metadata": {},
   "outputs": [
    {
     "name": "stdout",
     "output_type": "stream",
     "text": [
      "Epoch 1/5\n"
     ]
    },
    {
     "name": "stderr",
     "output_type": "stream",
     "text": [
      "c:\\Users\\coryg\\AppData\\Local\\Programs\\Python\\Python310\\lib\\site-packages\\keras\\src\\layers\\rnn\\rnn.py:204: UserWarning: Do not pass an `input_shape`/`input_dim` argument to a layer. When using Sequential models, prefer using an `Input(shape)` object as the first layer in the model instead.\n",
      "  super().__init__(**kwargs)\n"
     ]
    },
    {
     "name": "stdout",
     "output_type": "stream",
     "text": [
      "\u001b[1m93/93\u001b[0m \u001b[32m━━━━━━━━━━━━━━━━━━━━\u001b[0m\u001b[37m\u001b[0m \u001b[1m3s\u001b[0m 16ms/step - loss: 2.4998\n",
      "Epoch 2/5\n",
      "\u001b[1m93/93\u001b[0m \u001b[32m━━━━━━━━━━━━━━━━━━━━\u001b[0m\u001b[37m\u001b[0m \u001b[1m1s\u001b[0m 16ms/step - loss: 0.6285\n",
      "Epoch 3/5\n",
      "\u001b[1m93/93\u001b[0m \u001b[32m━━━━━━━━━━━━━━━━━━━━\u001b[0m\u001b[37m\u001b[0m \u001b[1m2s\u001b[0m 16ms/step - loss: 0.4338\n",
      "Epoch 4/5\n",
      "\u001b[1m93/93\u001b[0m \u001b[32m━━━━━━━━━━━━━━━━━━━━\u001b[0m\u001b[37m\u001b[0m \u001b[1m2s\u001b[0m 18ms/step - loss: 0.4110\n",
      "Epoch 5/5\n",
      "\u001b[1m93/93\u001b[0m \u001b[32m━━━━━━━━━━━━━━━━━━━━\u001b[0m\u001b[37m\u001b[0m \u001b[1m2s\u001b[0m 18ms/step - loss: 0.4252\n",
      "\u001b[1m16/16\u001b[0m \u001b[32m━━━━━━━━━━━━━━━━━━━━\u001b[0m\u001b[37m\u001b[0m \u001b[1m1s\u001b[0m 19ms/step\n",
      "    accuracy  cut-off\n",
      "0   0.954092     0.01\n",
      "1   0.954092     0.02\n",
      "2   0.954092     0.03\n",
      "3   0.954092     0.04\n",
      "4   0.954092     0.05\n",
      "..       ...      ...\n",
      "80  0.954092     0.81\n",
      "81  0.954092     0.82\n",
      "82  0.954092     0.83\n",
      "83  0.954092     0.84\n",
      "84  0.954092     0.85\n",
      "\n",
      "[85 rows x 2 columns]\n"
     ]
    }
   ],
   "source": [
    "# Fitting GRU Architecture\n",
    "\n",
    "model_gru = Sequential()\n",
    "model_gru.add(GRU(units=6, activation=\"sigmoid\", input_shape=(nsteps, features)))\n",
    "model_gru.add(Dense(units=1))\n",
    "\n",
    "model_gru.compile(loss=\"binary_crossentropy\")\n",
    "model_gru.fit(train_x, train_y, epochs=5, batch_size=32)\n",
    "\n",
    "pred_prob = model_gru.predict(test_x)\n",
    "\n",
    "cutoff=[]\n",
    "accuracy=[]\n",
    "for i in range(99):\n",
    "    tp=0\n",
    "    tn=0\n",
    "    cutoff.append(0.01*(i+1))\n",
    "    for sub1, sub2 in zip(pred_prob, test_y):\n",
    "        tp_ind=1 if (sub1>0.01*(i+1) and sub2==1) else 0\n",
    "        tn_ind=1 if (sub1<0.01*(i+1) and sub2==0) else 0\n",
    "        tp+=tp_ind\n",
    "        tn+=tn_ind\n",
    "        \n",
    "    accuracy_i=(tp+tn)/len(pred_prob)\n",
    "    accuracy.append(accuracy_i)\n",
    "    \n",
    "df=pd.DataFrame({'accuracy': accuracy,'cut-off': cutoff})\n",
    "max_accuracy=max(accuracy)\n",
    "optimal=df[df['accuracy']==max_accuracy]\n",
    "print(optimal)"
   ]
  }
 ],
 "metadata": {
  "kernelspec": {
   "display_name": "Python 3",
   "language": "python",
   "name": "python3"
  },
  "language_info": {
   "codemirror_mode": {
    "name": "ipython",
    "version": 3
   },
   "file_extension": ".py",
   "mimetype": "text/x-python",
   "name": "python",
   "nbconvert_exporter": "python",
   "pygments_lexer": "ipython3",
   "version": "3.10.4"
  }
 },
 "nbformat": 4,
 "nbformat_minor": 2
}
