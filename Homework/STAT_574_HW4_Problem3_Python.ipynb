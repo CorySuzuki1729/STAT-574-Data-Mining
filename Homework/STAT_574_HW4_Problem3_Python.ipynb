{
 "cells": [
  {
   "cell_type": "code",
   "execution_count": 1,
   "metadata": {},
   "outputs": [
    {
     "data": {
      "text/plain": [
       "Seattle\n",
       "sky is clear                    12801\n",
       "light rain                       7162\n",
       "overcast clouds                  6176\n",
       "broken clouds                    4659\n",
       "mist                             3686\n",
       "scattered clouds                 2875\n",
       "few clouds                       2115\n",
       "moderate rain                    1968\n",
       "light intensity drizzle          1616\n",
       "fog                               716\n",
       "haze                              572\n",
       "heavy intensity rain              505\n",
       "smoke                             175\n",
       "light snow                         66\n",
       "light intensity shower rain        65\n",
       "proximity thunderstorm             25\n",
       "very heavy rain                    18\n",
       "drizzle                            16\n",
       "thunderstorm                        7\n",
       "thunderstorm with light rain        6\n",
       "heavy intensity drizzle             6\n",
       "heavy snow                          4\n",
       "snow                                4\n",
       "shower rain                         2\n",
       "thunderstorm with heavy rain        2\n",
       "thunderstorm with rain              2\n",
       "light shower snow                   1\n",
       "squalls                             1\n",
       "heavy intensity shower rain         1\n",
       "Name: count, dtype: int64"
      ]
     },
     "execution_count": 1,
     "metadata": {},
     "output_type": "execute_result"
    }
   ],
   "source": [
    "# STAT 574 HW4 Problem 3\n",
    "\n",
    "import numpy as np\n",
    "import pandas as pd\n",
    "import matplotlib.pyplot as plt\n",
    "from statistics import mean\n",
    "from tensorflow.keras.models import Sequential\n",
    "from tensorflow.keras.layers import Dense, LSTM, GRU\n",
    "\n",
    "seattle_weather = pd.read_csv(\"C:/Users/coryg/OneDrive/Desktop/STAT_574_Data_Mining/hw4STAT574S25/weather_description.csv\",\n",
    "index_col = \"datetime\", parse_dates=[\"datetime\"])\n",
    "seattle_weather['Seattle'].value_counts()"
   ]
  },
  {
   "cell_type": "code",
   "execution_count": 2,
   "metadata": {},
   "outputs": [],
   "source": [
    "code_conditions = {\"sky is clear\": \"clear\", \"light rain\": \"rain\", \"overcast clouds\": \"cloudy\",\n",
    "                   \"broken clouds\": \"cloudy\", \"mist\": \"fog\", \"scattered clouds\": \"cloudy\",\n",
    "                   \"few clouds\": \"cloudy\", \"moderate rain\": \"rain\", \"light intensity drizzle\": \"rain\",\n",
    "                   \"fog\": \"fog\", \"haze\": \"fog\", \"heavy intensity rain\": \"cloudy\", \"smoke\": \"cloudy\",\n",
    "                   \"light snow\": \"snow\", \"light intensity shower rain\": \"rain\", \n",
    "                   \"proximity thunderstorm\": \"rain\", \"very heavy rain\": \"rain\", \"drizzle\": \"rain\",\n",
    "                   \"thunderstorm\": \"rain\", \"thunderstorm with light rain\": \"rain\", \n",
    "                   \"heavy intensity drizzle\": \"rain\", \"heavy snow\": \"snow\", \"shower rain\": \"rain\",\n",
    "                   \"thunderstorm with heavy rain\": \"rain\", \"thunderstorm with rain\": \"rain\",\n",
    "                   \"light shower snow\": \"snow\", \"squalls\": \"rain\", \"heavy intensity shower rain\": \"rain\"}\n",
    "\n",
    "seattle_weather['Seattle'] = seattle_weather['Seattle'].map(code_conditions)\n",
    "seattle_weather = pd.get_dummies(seattle_weather['Seattle'])"
   ]
  },
  {
   "cell_type": "code",
   "execution_count": null,
   "metadata": {},
   "outputs": [
    {
     "name": "stdout",
     "output_type": "stream",
     "text": [
      "Epoch 1/5\n"
     ]
    },
    {
     "name": "stderr",
     "output_type": "stream",
     "text": [
      "c:\\Users\\coryg\\AppData\\Local\\Programs\\Python\\Python310\\lib\\site-packages\\keras\\src\\layers\\rnn\\rnn.py:204: UserWarning: Do not pass an `input_shape`/`input_dim` argument to a layer. When using Sequential models, prefer using an `Input(shape)` object as the first layer in the model instead.\n",
      "  super().__init__(**kwargs)\n"
     ]
    },
    {
     "name": "stdout",
     "output_type": "stream",
     "text": [
      "\u001b[1m1163/1163\u001b[0m \u001b[32m━━━━━━━━━━━━━━━━━━━━\u001b[0m\u001b[37m\u001b[0m \u001b[1m10s\u001b[0m 8ms/step - loss: 0.5106\n",
      "Epoch 2/5\n",
      "\u001b[1m1163/1163\u001b[0m \u001b[32m━━━━━━━━━━━━━━━━━━━━\u001b[0m\u001b[37m\u001b[0m \u001b[1m21s\u001b[0m 18ms/step - loss: 0.3256\n",
      "Epoch 3/5\n",
      "\u001b[1m1163/1163\u001b[0m \u001b[32m━━━━━━━━━━━━━━━━━━━━\u001b[0m\u001b[37m\u001b[0m \u001b[1m21s\u001b[0m 18ms/step - loss: 0.3027\n",
      "Epoch 4/5\n",
      "\u001b[1m1163/1163\u001b[0m \u001b[32m━━━━━━━━━━━━━━━━━━━━\u001b[0m\u001b[37m\u001b[0m \u001b[1m11s\u001b[0m 10ms/step - loss: 0.3017\n",
      "Epoch 5/5\n",
      "\u001b[1m1163/1163\u001b[0m \u001b[32m━━━━━━━━━━━━━━━━━━━━\u001b[0m\u001b[37m\u001b[0m \u001b[1m10s\u001b[0m 9ms/step - loss: 0.3078\n",
      "\u001b[1m248/248\u001b[0m \u001b[32m━━━━━━━━━━━━━━━━━━━━\u001b[0m\u001b[37m\u001b[0m \u001b[1m1s\u001b[0m 5ms/step\n"
     ]
    }
   ],
   "source": [
    "# LSTM Models\n",
    "\n",
    "# Rain\n",
    "\n",
    "time_start = 2012\n",
    "time_end = 2016\n",
    "def train_test_split(time_start, time_end):\n",
    "    train = seattle_weather.loc[f\"{time_start}\":f\"{time_end}\", \"rain\"].values\n",
    "    test = seattle_weather.loc[f\"{time_end+1}\":, \"rain\"].values\n",
    "    return train, test\n",
    "\n",
    "train_set, test_set = train_test_split(time_start, time_end)\n",
    "\n",
    "nsteps = 60\n",
    "def split_sequence(sequence):\n",
    "    x, y = list(), list()\n",
    "    for i in range(len(sequence)):\n",
    "        end_i = i + nsteps\n",
    "        if end_i > len(sequence) - 1:\n",
    "            break\n",
    "        seq_x, seq_y = sequence[i:end_i], sequence[end_i]\n",
    "        x.append(seq_x)\n",
    "        y.append(seq_y)\n",
    "    return np.array(x), np.array(y)\n",
    "\n",
    "train_x, train_y = split_sequence(train_set)\n",
    "\n",
    "features = 1\n",
    "train_x = train_x.reshape(train_x.shape[0], train_x.shape[1], features)\n",
    "\n",
    "fitted_model = Sequential()\n",
    "fitted_model.add(LSTM(units=6, activation=\"sigmoid\", input_shape=(nsteps, features)))\n",
    "fitted_model.add(Dense(units=1, activation=\"sigmoid\"))\n",
    "\n",
    "fitted_model.compile(loss=\"binary_crossentropy\")\n",
    "fitted_model.fit(train_x, train_y, epochs=5, batch_size=32)\n",
    "\n",
    "test_x, test_rain = split_sequence(test_set)\n",
    "\n",
    "test_x = test_x.reshape(test_x.shape[0], test_x.shape[1], features)\n",
    "pred_prob_rain = fitted_model.predict(test_x)"
   ]
  },
  {
   "cell_type": "code",
   "execution_count": null,
   "metadata": {},
   "outputs": [
    {
     "name": "stdout",
     "output_type": "stream",
     "text": [
      "Epoch 1/5\n"
     ]
    },
    {
     "name": "stderr",
     "output_type": "stream",
     "text": [
      "c:\\Users\\coryg\\AppData\\Local\\Programs\\Python\\Python310\\lib\\site-packages\\keras\\src\\layers\\rnn\\rnn.py:204: UserWarning: Do not pass an `input_shape`/`input_dim` argument to a layer. When using Sequential models, prefer using an `Input(shape)` object as the first layer in the model instead.\n",
      "  super().__init__(**kwargs)\n"
     ]
    },
    {
     "name": "stdout",
     "output_type": "stream",
     "text": [
      "\u001b[1m1163/1163\u001b[0m \u001b[32m━━━━━━━━━━━━━━━━━━━━\u001b[0m\u001b[37m\u001b[0m \u001b[1m10s\u001b[0m 7ms/step - loss: 0.4611\n",
      "Epoch 2/5\n",
      "\u001b[1m1163/1163\u001b[0m \u001b[32m━━━━━━━━━━━━━━━━━━━━\u001b[0m\u001b[37m\u001b[0m \u001b[1m9s\u001b[0m 7ms/step - loss: 0.2616\n",
      "Epoch 3/5\n",
      "\u001b[1m1163/1163\u001b[0m \u001b[32m━━━━━━━━━━━━━━━━━━━━\u001b[0m\u001b[37m\u001b[0m \u001b[1m8s\u001b[0m 7ms/step - loss: 0.2099\n",
      "Epoch 4/5\n",
      "\u001b[1m1163/1163\u001b[0m \u001b[32m━━━━━━━━━━━━━━━━━━━━\u001b[0m\u001b[37m\u001b[0m \u001b[1m9s\u001b[0m 7ms/step - loss: 0.2039\n",
      "Epoch 5/5\n",
      "\u001b[1m1163/1163\u001b[0m \u001b[32m━━━━━━━━━━━━━━━━━━━━\u001b[0m\u001b[37m\u001b[0m \u001b[1m8s\u001b[0m 7ms/step - loss: 0.2075\n",
      "\u001b[1m248/248\u001b[0m \u001b[32m━━━━━━━━━━━━━━━━━━━━\u001b[0m\u001b[37m\u001b[0m \u001b[1m1s\u001b[0m 3ms/step\n"
     ]
    }
   ],
   "source": [
    "# Fog Model\n",
    "\n",
    "def train_test_split(time_start, time_end):\n",
    "    train = seattle_weather.loc[f\"{time_start}\":f\"{time_end}\", \"fog\"].values\n",
    "    test = seattle_weather.loc[f\"{time_end+1}\":, \"fog\"].values\n",
    "    return train, test\n",
    "\n",
    "train_set, test_set = train_test_split(time_start, time_end)\n",
    "\n",
    "def split_sequence(sequence):\n",
    "    x, y= list(), list()\n",
    "    for i in range(len(sequence)):\n",
    "        end_i = i + nsteps\n",
    "        if end_i > len(sequence) - 1:\n",
    "            break\n",
    "        seq_x, seq_y = sequence[i:end_i], sequence[end_i]\n",
    "        x.append(seq_x)\n",
    "        y.append(seq_y)\n",
    "    return np.array(x), np.array(y)\n",
    "\n",
    "train_x, train_y = split_sequence(train_set)\n",
    "\n",
    "train_x = train_x.reshape(train_x.shape[0], train_x.shape[1], features)\n",
    "\n",
    "fitted_model = Sequential()\n",
    "fitted_model.add(LSTM(units=6, activation=\"sigmoid\", input_shape=(nsteps, features)))\n",
    "fitted_model.add(Dense(units=1, activation=\"sigmoid\"))\n",
    "\n",
    "fitted_model.compile(loss=\"binary_crossentropy\")\n",
    "fitted_model.fit(train_x, train_y, epochs=5, batch_size=32)\n",
    "\n",
    "test_x, test_fog = split_sequence(test_set)\n",
    "\n",
    "test_x = test_x.reshape(test_x.shape[0], test_x.shape[1], features)\n",
    "pred_prob_fog = fitted_model.predict(test_x)"
   ]
  },
  {
   "cell_type": "code",
   "execution_count": null,
   "metadata": {},
   "outputs": [
    {
     "name": "stdout",
     "output_type": "stream",
     "text": [
      "Epoch 1/5\n"
     ]
    },
    {
     "name": "stderr",
     "output_type": "stream",
     "text": [
      "c:\\Users\\coryg\\AppData\\Local\\Programs\\Python\\Python310\\lib\\site-packages\\keras\\src\\layers\\rnn\\rnn.py:204: UserWarning: Do not pass an `input_shape`/`input_dim` argument to a layer. When using Sequential models, prefer using an `Input(shape)` object as the first layer in the model instead.\n",
      "  super().__init__(**kwargs)\n"
     ]
    },
    {
     "name": "stdout",
     "output_type": "stream",
     "text": [
      "\u001b[1m1163/1163\u001b[0m \u001b[32m━━━━━━━━━━━━━━━━━━━━\u001b[0m\u001b[37m\u001b[0m \u001b[1m14s\u001b[0m 11ms/step - loss: 0.5844\n",
      "Epoch 2/5\n",
      "\u001b[1m1163/1163\u001b[0m \u001b[32m━━━━━━━━━━━━━━━━━━━━\u001b[0m\u001b[37m\u001b[0m \u001b[1m16s\u001b[0m 14ms/step - loss: 0.4161\n",
      "Epoch 3/5\n",
      "\u001b[1m1163/1163\u001b[0m \u001b[32m━━━━━━━━━━━━━━━━━━━━\u001b[0m\u001b[37m\u001b[0m \u001b[1m25s\u001b[0m 21ms/step - loss: 0.4069\n",
      "Epoch 4/5\n",
      "\u001b[1m1163/1163\u001b[0m \u001b[32m━━━━━━━━━━━━━━━━━━━━\u001b[0m\u001b[37m\u001b[0m \u001b[1m28s\u001b[0m 24ms/step - loss: 0.4103\n",
      "Epoch 5/5\n",
      "\u001b[1m1163/1163\u001b[0m \u001b[32m━━━━━━━━━━━━━━━━━━━━\u001b[0m\u001b[37m\u001b[0m \u001b[1m27s\u001b[0m 23ms/step - loss: 0.4014\n",
      "\u001b[1m248/248\u001b[0m \u001b[32m━━━━━━━━━━━━━━━━━━━━\u001b[0m\u001b[37m\u001b[0m \u001b[1m2s\u001b[0m 7ms/step\n"
     ]
    }
   ],
   "source": [
    "# Cloudy Model\n",
    "\n",
    "def train_test_split(time_start, time_end):\n",
    "    train = seattle_weather.loc[f\"{time_start}\":f\"{time_end}\", \"cloudy\"].values\n",
    "    test = seattle_weather.loc[f\"{time_end+1}\":, \"cloudy\"].values\n",
    "    return train, test\n",
    "\n",
    "train_set, test_set = train_test_split(time_start, time_end)\n",
    "\n",
    "def split_sequence(sequence):\n",
    "    x, y = list(), list()\n",
    "    for i in range(len(sequence)):\n",
    "        end_i = i + nsteps\n",
    "        if end_i > len(sequence) - 1:\n",
    "            break\n",
    "        seq_x, seq_y = sequence[i:end_i], sequence[end_i]\n",
    "        x.append(seq_x)\n",
    "        y.append(seq_y)\n",
    "    return np.array(x), np.array(y)\n",
    "\n",
    "train_x, train_y = split_sequence(train_set)\n",
    "\n",
    "train_x = train_x.reshape(train_x.shape[0], train_x.shape[1], features)\n",
    "\n",
    "fitted_model = Sequential()\n",
    "fitted_model.add(LSTM(units=6, activation=\"sigmoid\", input_shape=(nsteps, features)))\n",
    "fitted_model.add(Dense(units=1, activation=\"sigmoid\"))\n",
    "\n",
    "fitted_model.compile(loss=\"binary_crossentropy\")\n",
    "fitted_model.fit(train_x, train_y, epochs=5, batch_size=32)\n",
    "\n",
    "test_x, test_cloudy = split_sequence(test_set)\n",
    "test_x = test_x.reshape(test_x.shape[0], test_x.shape[1], features)\n",
    "\n",
    "pred_prob_cloudy = fitted_model.predict(test_x)"
   ]
  },
  {
   "cell_type": "code",
   "execution_count": null,
   "metadata": {},
   "outputs": [
    {
     "name": "stdout",
     "output_type": "stream",
     "text": [
      "Epoch 1/5\n"
     ]
    },
    {
     "name": "stderr",
     "output_type": "stream",
     "text": [
      "c:\\Users\\coryg\\AppData\\Local\\Programs\\Python\\Python310\\lib\\site-packages\\keras\\src\\layers\\rnn\\rnn.py:204: UserWarning: Do not pass an `input_shape`/`input_dim` argument to a layer. When using Sequential models, prefer using an `Input(shape)` object as the first layer in the model instead.\n",
      "  super().__init__(**kwargs)\n"
     ]
    },
    {
     "name": "stdout",
     "output_type": "stream",
     "text": [
      "\u001b[1m1163/1163\u001b[0m \u001b[32m━━━━━━━━━━━━━━━━━━━━\u001b[0m\u001b[37m\u001b[0m \u001b[1m11s\u001b[0m 9ms/step - loss: 0.3270\n",
      "Epoch 2/5\n",
      "\u001b[1m1163/1163\u001b[0m \u001b[32m━━━━━━━━━━━━━━━━━━━━\u001b[0m\u001b[37m\u001b[0m \u001b[1m10s\u001b[0m 8ms/step - loss: 0.0071\n",
      "Epoch 3/5\n",
      "\u001b[1m1163/1163\u001b[0m \u001b[32m━━━━━━━━━━━━━━━━━━━━\u001b[0m\u001b[37m\u001b[0m \u001b[1m19s\u001b[0m 16ms/step - loss: 0.0084\n",
      "Epoch 4/5\n",
      "\u001b[1m1163/1163\u001b[0m \u001b[32m━━━━━━━━━━━━━━━━━━━━\u001b[0m\u001b[37m\u001b[0m \u001b[1m25s\u001b[0m 21ms/step - loss: 0.0074\n",
      "Epoch 5/5\n",
      "\u001b[1m1163/1163\u001b[0m \u001b[32m━━━━━━━━━━━━━━━━━━━━\u001b[0m\u001b[37m\u001b[0m \u001b[1m22s\u001b[0m 19ms/step - loss: 0.0072\n",
      "\u001b[1m248/248\u001b[0m \u001b[32m━━━━━━━━━━━━━━━━━━━━\u001b[0m\u001b[37m\u001b[0m \u001b[1m2s\u001b[0m 8ms/step\n"
     ]
    }
   ],
   "source": [
    "# Snow Model\n",
    "\n",
    "def train_test_split(time_start, time_end):\n",
    "    train = seattle_weather.loc[f\"{time_start}\":f\"{time_end}\", \"snow\"].values\n",
    "    test = seattle_weather.loc[f\"{time_end+1}\":, \"snow\"].values\n",
    "    return train, test\n",
    "\n",
    "train_set, test_set = train_test_split(time_start, time_end)\n",
    "\n",
    "def split_sequence(sequence):\n",
    "    x, y = list(), list()\n",
    "    for i in range(len(sequence)):\n",
    "        end_i = i + nsteps\n",
    "        if end_i > len(sequence) - 1:\n",
    "            break\n",
    "        seq_x, seq_y = sequence[i:end_i], sequence[end_i]\n",
    "        x.append(seq_x)\n",
    "        y.append(seq_y)\n",
    "    return np.array(x), np.array(y)\n",
    "\n",
    "train_x, train_y = split_sequence(train_set)\n",
    "\n",
    "train_x = train_x.reshape(train_x.shape[0], train_x.shape[1], features)\n",
    "\n",
    "fitted_model = Sequential()\n",
    "fitted_model.add(LSTM(units=6, activation=\"sigmoid\", input_shape=(nsteps, features)))\n",
    "fitted_model.add(Dense(units=1, activation=\"sigmoid\"))\n",
    "\n",
    "fitted_model.compile(loss=\"binary_crossentropy\")\n",
    "fitted_model.fit(train_x, train_y, epochs=5, batch_size=32)\n",
    "test_x, test_snow = split_sequence(test_set)\n",
    "\n",
    "test_x = test_x.reshape(test_x.shape[0], test_x.shape[1], features)\n",
    "pred_prob_snow = fitted_model.predict(test_x)"
   ]
  },
  {
   "cell_type": "code",
   "execution_count": null,
   "metadata": {},
   "outputs": [
    {
     "name": "stdout",
     "output_type": "stream",
     "text": [
      "Epoch 1/5\n"
     ]
    },
    {
     "name": "stderr",
     "output_type": "stream",
     "text": [
      "c:\\Users\\coryg\\AppData\\Local\\Programs\\Python\\Python310\\lib\\site-packages\\keras\\src\\layers\\rnn\\rnn.py:204: UserWarning: Do not pass an `input_shape`/`input_dim` argument to a layer. When using Sequential models, prefer using an `Input(shape)` object as the first layer in the model instead.\n",
      "  super().__init__(**kwargs)\n"
     ]
    },
    {
     "name": "stdout",
     "output_type": "stream",
     "text": [
      "\u001b[1m1163/1163\u001b[0m \u001b[32m━━━━━━━━━━━━━━━━━━━━\u001b[0m\u001b[37m\u001b[0m \u001b[1m11s\u001b[0m 8ms/step - loss: 0.5594\n",
      "Epoch 2/5\n",
      "\u001b[1m1163/1163\u001b[0m \u001b[32m━━━━━━━━━━━━━━━━━━━━\u001b[0m\u001b[37m\u001b[0m \u001b[1m13s\u001b[0m 11ms/step - loss: 0.2854\n",
      "Epoch 3/5\n",
      "\u001b[1m1163/1163\u001b[0m \u001b[32m━━━━━━━━━━━━━━━━━━━━\u001b[0m\u001b[37m\u001b[0m \u001b[1m15s\u001b[0m 13ms/step - loss: 0.2669\n",
      "Epoch 4/5\n",
      "\u001b[1m1163/1163\u001b[0m \u001b[32m━━━━━━━━━━━━━━━━━━━━\u001b[0m\u001b[37m\u001b[0m \u001b[1m14s\u001b[0m 12ms/step - loss: 0.2614\n",
      "Epoch 5/5\n",
      "\u001b[1m1163/1163\u001b[0m \u001b[32m━━━━━━━━━━━━━━━━━━━━\u001b[0m\u001b[37m\u001b[0m \u001b[1m15s\u001b[0m 13ms/step - loss: 0.2638\n",
      "\u001b[1m248/248\u001b[0m \u001b[32m━━━━━━━━━━━━━━━━━━━━\u001b[0m\u001b[37m\u001b[0m \u001b[1m1s\u001b[0m 4ms/step\n"
     ]
    }
   ],
   "source": [
    "# Clear Model\n",
    "\n",
    "def train_test_split(time_start, time_end):\n",
    "    train = seattle_weather.loc[f\"{time_start}\":f\"{time_end}\", \"clear\"].values\n",
    "    test = seattle_weather.loc[f\"{time_end+1}\":, \"clear\"].values\n",
    "    return train, test\n",
    "\n",
    "train_set, test_set = train_test_split(time_start, time_end)\n",
    "\n",
    "def split_sequence(sequence):\n",
    "    x, y = list(), list()\n",
    "    for i in range(len(sequence)):\n",
    "        end_i = i + nsteps\n",
    "        if end_i > len(sequence) - 1:\n",
    "            break\n",
    "        seq_x, seq_y = sequence[i:end_i], sequence[end_i]\n",
    "        x.append(seq_x)\n",
    "        y.append(seq_y)\n",
    "    return np.array(x), np.array(y)\n",
    "\n",
    "train_x, train_y = split_sequence(train_set)\n",
    "\n",
    "train_x = train_x.reshape(train_x.shape[0], train_x.shape[1], features)\n",
    "\n",
    "fitted_model = Sequential()\n",
    "fitted_model.add(LSTM(units=6, activation=\"sigmoid\", input_shape=(nsteps, features)))\n",
    "fitted_model.add(Dense(units=1, activation=\"sigmoid\"))\n",
    "\n",
    "fitted_model.compile(loss=\"binary_crossentropy\")\n",
    "fitted_model.fit(train_x, train_y, epochs=5, batch_size=32)\n",
    "test_x, test_clear = split_sequence(test_set)\n",
    "\n",
    "test_x = test_x.reshape(test_x.shape[0], test_x.shape[1], features)\n",
    "pred_prob_clear = fitted_model.predict(test_x)"
   ]
  },
  {
   "cell_type": "code",
   "execution_count": 16,
   "metadata": {},
   "outputs": [
    {
     "name": "stdout",
     "output_type": "stream",
     "text": [
      "0.7094\n"
     ]
    }
   ],
   "source": [
    "# Computing prediction accuracy for LSTM models\n",
    "\n",
    "pred_prob_all = np.concatenate((pred_prob_rain, pred_prob_fog, pred_prob_clear, pred_prob_cloudy, pred_prob_snow), axis=1)\n",
    "pred_prob_all = pd.DataFrame(pred_prob_all)\n",
    "pred_class = pred_prob_all.idxmax(axis=1)\n",
    "\n",
    "test_all = np.c_[test_rain, test_fog, test_clear, test_cloudy, test_snow]\n",
    "test_all = pd.DataFrame(test_all)\n",
    "true_class = test_all.idxmax(axis=1)\n",
    "\n",
    "match = []\n",
    "for i in range(len(pred_class)):\n",
    "    if pred_class[i] == true_class[i]:\n",
    "        match.append(1)\n",
    "    else:\n",
    "        match.append(0)\n",
    "\n",
    "print(round(mean(match), 4))"
   ]
  },
  {
   "cell_type": "code",
   "execution_count": null,
   "metadata": {},
   "outputs": [
    {
     "name": "stdout",
     "output_type": "stream",
     "text": [
      "Epoch 1/5\n"
     ]
    },
    {
     "name": "stderr",
     "output_type": "stream",
     "text": [
      "c:\\Users\\coryg\\AppData\\Local\\Programs\\Python\\Python310\\lib\\site-packages\\keras\\src\\layers\\rnn\\rnn.py:204: UserWarning: Do not pass an `input_shape`/`input_dim` argument to a layer. When using Sequential models, prefer using an `Input(shape)` object as the first layer in the model instead.\n",
      "  super().__init__(**kwargs)\n"
     ]
    },
    {
     "name": "stdout",
     "output_type": "stream",
     "text": [
      "\u001b[1m1163/1163\u001b[0m \u001b[32m━━━━━━━━━━━━━━━━━━━━\u001b[0m\u001b[37m\u001b[0m \u001b[1m14s\u001b[0m 11ms/step - loss: 0.5988\n",
      "Epoch 2/5\n",
      "\u001b[1m1163/1163\u001b[0m \u001b[32m━━━━━━━━━━━━━━━━━━━━\u001b[0m\u001b[37m\u001b[0m \u001b[1m18s\u001b[0m 15ms/step - loss: 0.3411\n",
      "Epoch 3/5\n",
      "\u001b[1m1163/1163\u001b[0m \u001b[32m━━━━━━━━━━━━━━━━━━━━\u001b[0m\u001b[37m\u001b[0m \u001b[1m24s\u001b[0m 20ms/step - loss: 0.3032\n",
      "Epoch 4/5\n",
      "\u001b[1m1163/1163\u001b[0m \u001b[32m━━━━━━━━━━━━━━━━━━━━\u001b[0m\u001b[37m\u001b[0m \u001b[1m24s\u001b[0m 21ms/step - loss: 0.3092\n",
      "Epoch 5/5\n",
      "\u001b[1m1163/1163\u001b[0m \u001b[32m━━━━━━━━━━━━━━━━━━━━\u001b[0m\u001b[37m\u001b[0m \u001b[1m24s\u001b[0m 20ms/step - loss: 0.3050\n",
      "\u001b[1m248/248\u001b[0m \u001b[32m━━━━━━━━━━━━━━━━━━━━\u001b[0m\u001b[37m\u001b[0m \u001b[1m2s\u001b[0m 6ms/step\n"
     ]
    }
   ],
   "source": [
    "# GRU Models\n",
    "\n",
    "# Rain Model\n",
    "\n",
    "time_start = 2012\n",
    "time_end = 2016\n",
    "\n",
    "def train_test_split(time_start, time_end):\n",
    "    train = seattle_weather.loc[f\"{time_start}\":f\"{time_end}\", \"rain\"].values\n",
    "    test = seattle_weather.loc[f\"{time_end+1}\":, \"rain\"].values\n",
    "    return train, test\n",
    "\n",
    "train_set, test_set = train_test_split(time_start, time_end)\n",
    "\n",
    "nsteps = 60\n",
    "def split_sequence(sequence):\n",
    "    x, y = list(), list()\n",
    "    for i in range(len(sequence)):\n",
    "        end_i = i + nsteps\n",
    "        if end_i > len(sequence) - 1:\n",
    "            break\n",
    "        seq_x, seq_y = sequence[i:end_i], sequence[end_i]\n",
    "        x.append(seq_x)\n",
    "        y.append(seq_y)\n",
    "    return np.array(x), np.array(y)\n",
    "\n",
    "train_x, train_y = split_sequence(train_set)\n",
    "\n",
    "features = 1\n",
    "train_x = train_x.reshape(train_x.shape[0], train_x.shape[1], features)\n",
    "\n",
    "fitted_model = Sequential()\n",
    "fitted_model.add(GRU(units=6, activation=\"sigmoid\", input_shape=(nsteps, features)))\n",
    "fitted_model.add(Dense(units=1, activation=\"sigmoid\"))\n",
    "\n",
    "fitted_model.compile(loss=\"binary_crossentropy\")\n",
    "fitted_model.fit(train_x, train_y, epochs=5, batch_size=32)\n",
    "\n",
    "test_x, test_rain = split_sequence(test_set)\n",
    "\n",
    "test_x = test_x.reshape(test_x.shape[0], test_x.shape[1], features)\n",
    "pred_prob_rain = fitted_model.predict(test_x)"
   ]
  },
  {
   "cell_type": "code",
   "execution_count": null,
   "metadata": {},
   "outputs": [
    {
     "name": "stdout",
     "output_type": "stream",
     "text": [
      "Epoch 1/5\n"
     ]
    },
    {
     "name": "stderr",
     "output_type": "stream",
     "text": [
      "c:\\Users\\coryg\\AppData\\Local\\Programs\\Python\\Python310\\lib\\site-packages\\keras\\src\\layers\\rnn\\rnn.py:204: UserWarning: Do not pass an `input_shape`/`input_dim` argument to a layer. When using Sequential models, prefer using an `Input(shape)` object as the first layer in the model instead.\n",
      "  super().__init__(**kwargs)\n"
     ]
    },
    {
     "name": "stdout",
     "output_type": "stream",
     "text": [
      "\u001b[1m1163/1163\u001b[0m \u001b[32m━━━━━━━━━━━━━━━━━━━━\u001b[0m\u001b[37m\u001b[0m \u001b[1m22s\u001b[0m 18ms/step - loss: 0.3162\n",
      "Epoch 2/5\n",
      "\u001b[1m1163/1163\u001b[0m \u001b[32m━━━━━━━━━━━━━━━━━━━━\u001b[0m\u001b[37m\u001b[0m \u001b[1m22s\u001b[0m 18ms/step - loss: 0.2545\n",
      "Epoch 3/5\n",
      "\u001b[1m1163/1163\u001b[0m \u001b[32m━━━━━━━━━━━━━━━━━━━━\u001b[0m\u001b[37m\u001b[0m \u001b[1m22s\u001b[0m 19ms/step - loss: 0.2139\n",
      "Epoch 4/5\n",
      "\u001b[1m1163/1163\u001b[0m \u001b[32m━━━━━━━━━━━━━━━━━━━━\u001b[0m\u001b[37m\u001b[0m \u001b[1m23s\u001b[0m 20ms/step - loss: 0.2029\n",
      "Epoch 5/5\n",
      "\u001b[1m1163/1163\u001b[0m \u001b[32m━━━━━━━━━━━━━━━━━━━━\u001b[0m\u001b[37m\u001b[0m \u001b[1m22s\u001b[0m 19ms/step - loss: 0.2054\n",
      "\u001b[1m248/248\u001b[0m \u001b[32m━━━━━━━━━━━━━━━━━━━━\u001b[0m\u001b[37m\u001b[0m \u001b[1m2s\u001b[0m 7ms/step\n"
     ]
    }
   ],
   "source": [
    "# Fog Model\n",
    "\n",
    "def train_test_split(time_start, time_end):\n",
    "    train = seattle_weather.loc[f\"{time_start}\":f\"{time_end}\", \"fog\"].values\n",
    "    test = seattle_weather.loc[f\"{time_end+1}\":, \"fog\"].values\n",
    "    return train, test\n",
    "\n",
    "train_set, test_set = train_test_split(time_start, time_end)\n",
    "\n",
    "nsteps = 60\n",
    "def split_sequence(sequence):\n",
    "    x, y = list(), list()\n",
    "    for i in range(len(sequence)):\n",
    "        end_i = i + nsteps\n",
    "        if end_i > len(sequence) - 1:\n",
    "            break\n",
    "        seq_x, seq_y = sequence[i:end_i], sequence[end_i]\n",
    "        x.append(seq_x)\n",
    "        y.append(seq_y)\n",
    "    return np.array(x), np.array(y)\n",
    "\n",
    "train_x, train_y = split_sequence(train_set)\n",
    "\n",
    "train_x = train_x.reshape(train_x.shape[0], train_x.shape[1], features)\n",
    "\n",
    "fitted_model = Sequential()\n",
    "fitted_model.add(GRU(units=6, activation=\"sigmoid\", input_shape=(nsteps, features)))\n",
    "fitted_model.add(Dense(units=1, activation=\"sigmoid\"))\n",
    "\n",
    "fitted_model.compile(loss=\"binary_crossentropy\")\n",
    "fitted_model.fit(train_x, train_y, epochs=5, batch_size=32)\n",
    "\n",
    "test_x, test_fog = split_sequence(test_set)\n",
    "\n",
    "test_x = test_x.reshape(test_x.shape[0], test_x.shape[1], features)\n",
    "pred_prob_fog = fitted_model.predict(test_x)\n"
   ]
  },
  {
   "cell_type": "code",
   "execution_count": null,
   "metadata": {},
   "outputs": [
    {
     "name": "stdout",
     "output_type": "stream",
     "text": [
      "Epoch 1/5\n",
      "\u001b[1m1163/1163\u001b[0m \u001b[32m━━━━━━━━━━━━━━━━━━━━\u001b[0m\u001b[37m\u001b[0m \u001b[1m19s\u001b[0m 15ms/step - loss: 0.6254\n",
      "Epoch 2/5\n",
      "\u001b[1m1163/1163\u001b[0m \u001b[32m━━━━━━━━━━━━━━━━━━━━\u001b[0m\u001b[37m\u001b[0m \u001b[1m22s\u001b[0m 19ms/step - loss: 0.4215\n",
      "Epoch 3/5\n",
      "\u001b[1m1163/1163\u001b[0m \u001b[32m━━━━━━━━━━━━━━━━━━━━\u001b[0m\u001b[37m\u001b[0m \u001b[1m22s\u001b[0m 18ms/step - loss: 0.4169\n",
      "Epoch 4/5\n",
      "\u001b[1m1163/1163\u001b[0m \u001b[32m━━━━━━━━━━━━━━━━━━━━\u001b[0m\u001b[37m\u001b[0m \u001b[1m23s\u001b[0m 20ms/step - loss: 0.4026\n",
      "Epoch 5/5\n",
      "\u001b[1m1163/1163\u001b[0m \u001b[32m━━━━━━━━━━━━━━━━━━━━\u001b[0m\u001b[37m\u001b[0m \u001b[1m23s\u001b[0m 20ms/step - loss: 0.4106\n",
      "\u001b[1m248/248\u001b[0m \u001b[32m━━━━━━━━━━━━━━━━━━━━\u001b[0m\u001b[37m\u001b[0m \u001b[1m2s\u001b[0m 7ms/step\n"
     ]
    }
   ],
   "source": [
    "# Cloudy Model\n",
    "\n",
    "\n",
    "def train_test_split(time_start, time_end):\n",
    "    train = seattle_weather.loc[f\"{time_start}\":f\"{time_end}\", \"cloudy\"].values\n",
    "    test = seattle_weather.loc[f\"{time_end+1}\":, \"cloudy\"].values\n",
    "    return train, test\n",
    "\n",
    "train_set, test_set = train_test_split(time_start, time_end)\n",
    "\n",
    "nsteps = 60\n",
    "def split_sequence(sequence):\n",
    "    x, y = list(), list()\n",
    "    for i in range(len(sequence)):\n",
    "        end_i = i + nsteps\n",
    "        if end_i > len(sequence) - 1:\n",
    "            break\n",
    "        seq_x, seq_y = sequence[i:end_i], sequence[end_i]\n",
    "        x.append(seq_x)\n",
    "        y.append(seq_y)\n",
    "    return np.array(x), np.array(y)\n",
    "\n",
    "train_x, train_y = split_sequence(train_set)\n",
    "\n",
    "train_x = train_x.reshape(train_x.shape[0], train_x.shape[1], features)\n",
    "\n",
    "fitted_model = Sequential()\n",
    "fitted_model.add(GRU(units=6, activation=\"sigmoid\", input_shape=(nsteps, features)))\n",
    "fitted_model.add(Dense(units=1, activation=\"sigmoid\"))\n",
    "\n",
    "fitted_model.compile(loss=\"binary_crossentropy\")\n",
    "fitted_model.fit(train_x, train_y, epochs=5, batch_size=32)\n",
    "\n",
    "test_x, test_fog = split_sequence(test_set)\n",
    "\n",
    "test_x = test_x.reshape(test_x.shape[0], test_x.shape[1], features)\n",
    "pred_prob_fog = fitted_model.predict(test_x)\n"
   ]
  },
  {
   "cell_type": "code",
   "execution_count": null,
   "metadata": {},
   "outputs": [
    {
     "name": "stdout",
     "output_type": "stream",
     "text": [
      "Epoch 1/5\n",
      "\u001b[1m1163/1163\u001b[0m \u001b[32m━━━━━━━━━━━━━━━━━━━━\u001b[0m\u001b[37m\u001b[0m \u001b[1m14s\u001b[0m 11ms/step - loss: 0.4120\n",
      "Epoch 2/5\n",
      "\u001b[1m1163/1163\u001b[0m \u001b[32m━━━━━━━━━━━━━━━━━━━━\u001b[0m\u001b[37m\u001b[0m \u001b[1m23s\u001b[0m 20ms/step - loss: 0.0052\n",
      "Epoch 3/5\n",
      "\u001b[1m1163/1163\u001b[0m \u001b[32m━━━━━━━━━━━━━━━━━━━━\u001b[0m\u001b[37m\u001b[0m \u001b[1m22s\u001b[0m 19ms/step - loss: 0.0065\n",
      "Epoch 4/5\n",
      "\u001b[1m1163/1163\u001b[0m \u001b[32m━━━━━━━━━━━━━━━━━━━━\u001b[0m\u001b[37m\u001b[0m \u001b[1m22s\u001b[0m 19ms/step - loss: 0.0077\n",
      "Epoch 5/5\n",
      "\u001b[1m1163/1163\u001b[0m \u001b[32m━━━━━━━━━━━━━━━━━━━━\u001b[0m\u001b[37m\u001b[0m \u001b[1m22s\u001b[0m 19ms/step - loss: 0.0088\n",
      "\u001b[1m248/248\u001b[0m \u001b[32m━━━━━━━━━━━━━━━━━━━━\u001b[0m\u001b[37m\u001b[0m \u001b[1m2s\u001b[0m 7ms/step\n"
     ]
    }
   ],
   "source": [
    "# Snow Model\n",
    "\n",
    "def train_test_split(time_start, time_end):\n",
    "    train = seattle_weather.loc[f\"{time_start}\":f\"{time_end}\", \"snow\"].values\n",
    "    test = seattle_weather.loc[f\"{time_end+1}\":, \"snow\"].values\n",
    "    return train, test\n",
    "\n",
    "train_set, test_set = train_test_split(time_start, time_end)\n",
    "\n",
    "nsteps = 60\n",
    "def split_sequence(sequence):\n",
    "    x, y = list(), list()\n",
    "    for i in range(len(sequence)):\n",
    "        end_i = i + nsteps\n",
    "        if end_i > len(sequence) - 1:\n",
    "            break\n",
    "        seq_x, seq_y = sequence[i:end_i], sequence[end_i]\n",
    "        x.append(seq_x)\n",
    "        y.append(seq_y)\n",
    "    return np.array(x), np.array(y)\n",
    "\n",
    "train_x, train_y = split_sequence(train_set)\n",
    "\n",
    "train_x = train_x.reshape(train_x.shape[0], train_x.shape[1], features)\n",
    "\n",
    "fitted_model = Sequential()\n",
    "fitted_model.add(GRU(units=6, activation=\"sigmoid\", input_shape=(nsteps, features)))\n",
    "fitted_model.add(Dense(units=1, activation=\"sigmoid\"))\n",
    "\n",
    "fitted_model.compile(loss=\"binary_crossentropy\")\n",
    "fitted_model.fit(train_x, train_y, epochs=5, batch_size=32)\n",
    "\n",
    "test_x, test_fog = split_sequence(test_set)\n",
    "\n",
    "test_x = test_x.reshape(test_x.shape[0], test_x.shape[1], features)\n",
    "pred_prob_fog = fitted_model.predict(test_x)\n"
   ]
  },
  {
   "cell_type": "code",
   "execution_count": null,
   "metadata": {},
   "outputs": [
    {
     "name": "stdout",
     "output_type": "stream",
     "text": [
      "Epoch 1/5\n",
      "\u001b[1m1163/1163\u001b[0m \u001b[32m━━━━━━━━━━━━━━━━━━━━\u001b[0m\u001b[37m\u001b[0m \u001b[1m19s\u001b[0m 16ms/step - loss: 0.6296\n",
      "Epoch 2/5\n",
      "\u001b[1m1163/1163\u001b[0m \u001b[32m━━━━━━━━━━━━━━━━━━━━\u001b[0m\u001b[37m\u001b[0m \u001b[1m20s\u001b[0m 17ms/step - loss: 0.3158\n",
      "Epoch 3/5\n",
      "\u001b[1m1163/1163\u001b[0m \u001b[32m━━━━━━━━━━━━━━━━━━━━\u001b[0m\u001b[37m\u001b[0m \u001b[1m21s\u001b[0m 18ms/step - loss: 0.2669\n",
      "Epoch 4/5\n",
      "\u001b[1m1163/1163\u001b[0m \u001b[32m━━━━━━━━━━━━━━━━━━━━\u001b[0m\u001b[37m\u001b[0m \u001b[1m22s\u001b[0m 19ms/step - loss: 0.2583\n",
      "Epoch 5/5\n",
      "\u001b[1m1163/1163\u001b[0m \u001b[32m━━━━━━━━━━━━━━━━━━━━\u001b[0m\u001b[37m\u001b[0m \u001b[1m21s\u001b[0m 18ms/step - loss: 0.2646\n",
      "\u001b[1m248/248\u001b[0m \u001b[32m━━━━━━━━━━━━━━━━━━━━\u001b[0m\u001b[37m\u001b[0m \u001b[1m2s\u001b[0m 6ms/step\n"
     ]
    }
   ],
   "source": [
    "# Clear Model\n",
    "\n",
    "def train_test_split(time_start, time_end):\n",
    "    train = seattle_weather.loc[f\"{time_start}\":f\"{time_end}\", \"clear\"].values\n",
    "    test = seattle_weather.loc[f\"{time_end+1}\":, \"clear\"].values\n",
    "    return train, test\n",
    "\n",
    "train_set, test_set = train_test_split(time_start, time_end)\n",
    "\n",
    "nsteps = 60\n",
    "def split_sequence(sequence):\n",
    "    x, y = list(), list()\n",
    "    for i in range(len(sequence)):\n",
    "        end_i = i + nsteps\n",
    "        if end_i > len(sequence) - 1:\n",
    "            break\n",
    "        seq_x, seq_y = sequence[i:end_i], sequence[end_i]\n",
    "        x.append(seq_x)\n",
    "        y.append(seq_y)\n",
    "    return np.array(x), np.array(y)\n",
    "\n",
    "train_x, train_y = split_sequence(train_set)\n",
    "\n",
    "train_x = train_x.reshape(train_x.shape[0], train_x.shape[1], features)\n",
    "\n",
    "fitted_model = Sequential()\n",
    "fitted_model.add(GRU(units=6, activation=\"sigmoid\", input_shape=(nsteps, features)))\n",
    "fitted_model.add(Dense(units=1, activation=\"sigmoid\"))\n",
    "\n",
    "fitted_model.compile(loss=\"binary_crossentropy\")\n",
    "fitted_model.fit(train_x, train_y, epochs=5, batch_size=32)\n",
    "\n",
    "test_x, test_fog = split_sequence(test_set)\n",
    "\n",
    "test_x = test_x.reshape(test_x.shape[0], test_x.shape[1], features)\n",
    "pred_prob_fog = fitted_model.predict(test_x)\n"
   ]
  },
  {
   "cell_type": "code",
   "execution_count": 23,
   "metadata": {},
   "outputs": [
    {
     "name": "stdout",
     "output_type": "stream",
     "text": [
      "0.6338\n"
     ]
    }
   ],
   "source": [
    "# Computing prediction accuracy for GRU model. \n",
    "\n",
    "pred_prob_all = np.concatenate((pred_prob_rain, pred_prob_fog, pred_prob_cloudy, pred_prob_snow, pred_prob_clear), axis=1)\n",
    "pred_prob_all = pd.DataFrame(pred_prob_all)\n",
    "pred_class = pred_prob_all.idxmax(axis=1)\n",
    "\n",
    "test_all = np.c_[test_rain, test_fog, test_cloudy, test_snow, test_clear]\n",
    "test_all = pd.DataFrame(test_all)\n",
    "true_class = test_all.idxmax(axis=1)\n",
    "\n",
    "match_gru = []\n",
    "for i in range(len(pred_class)):\n",
    "    if pred_class[i] == true_class[i]:\n",
    "        match_gru.append(1)\n",
    "    else:\n",
    "        match_gru.append(0)\n",
    "\n",
    "print(round(mean(match_gru), 4))"
   ]
  }
 ],
 "metadata": {
  "kernelspec": {
   "display_name": "Python 3",
   "language": "python",
   "name": "python3"
  },
  "language_info": {
   "codemirror_mode": {
    "name": "ipython",
    "version": 3
   },
   "file_extension": ".py",
   "mimetype": "text/x-python",
   "name": "python",
   "nbconvert_exporter": "python",
   "pygments_lexer": "ipython3",
   "version": "3.10.4"
  }
 },
 "nbformat": 4,
 "nbformat_minor": 2
}
