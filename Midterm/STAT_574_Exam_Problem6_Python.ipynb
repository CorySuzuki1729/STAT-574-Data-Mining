{
 "cells": [
  {
   "cell_type": "code",
   "execution_count": 4,
   "metadata": {},
   "outputs": [
    {
     "name": "stdout",
     "output_type": "stream",
     "text": [
      "Accuracy: 0.8666666666666667\n"
     ]
    }
   ],
   "source": [
    "# STAT 574 Midterm Exam Problem 6\n",
    "\n",
    "import pandas as pd\n",
    "from sklearn.model_selection import train_test_split\n",
    "from sklearn.neighbors import KNeighborsClassifier\n",
    "from statistics import mean\n",
    "\n",
    "concussion_data = pd.read_csv(\"C:/Users/coryg/OneDrive/Desktop/STAT_574_Data_Mining/concussions_data.csv\")\n",
    "position_code = {'Offensive Lineman':0, 'Cornerback':1, 'Running Back':2, 'Quarterback':3, 'Wide Receiver':4}\n",
    "concussion_code = {'mild':0, 'moderate':1, 'severe':2}\n",
    "concussion_data['position'] = concussion_data['position'].map(position_code)\n",
    "concussion_data['concussion'] = concussion_data['concussion'].map(concussion_code)\n",
    "\n",
    "X = concussion_data.iloc[:,0:4].values\n",
    "y = concussion_data.iloc[:,4].values\n",
    "\n",
    "# Splitting the data into 80% training and 20% testing sets. \n",
    "\n",
    "X_train, X_test, y_train, y_test = train_test_split(X, y, test_size=0.20,\n",
    "random_state=845103)\n",
    "\n",
    "# Fitting a KNN Multinomial Classifier\n",
    "\n",
    "multiclass = KNeighborsClassifier(n_neighbors=11)\n",
    "knn_multiclass = multiclass.fit(X_train, y_train)\n",
    "\n",
    "# Computing prediction accuracy for testing data. \n",
    "\n",
    "y_pred = knn_multiclass.predict(X_test)\n",
    "y_test = pd.DataFrame(y_test, columns=[\"concussion\"])\n",
    "y_pred = pd.DataFrame(y_pred, columns=[\"predicted\"])\n",
    "df = pd.concat([y_test, y_pred], axis=1)\n",
    "\n",
    "match = []\n",
    "for i in range(len(df)):\n",
    "    if df[\"concussion\"][i] == df[\"predicted\"][i]:\n",
    "        match.append(1)\n",
    "    else:\n",
    "        match.append(0)\n",
    "\n",
    "print(\"Accuracy:\", mean(match))"
   ]
  },
  {
   "cell_type": "code",
   "execution_count": 3,
   "metadata": {},
   "outputs": [
    {
     "name": "stdout",
     "output_type": "stream",
     "text": [
      "The optimal K value is: 11\n"
     ]
    }
   ],
   "source": [
    "from sklearn.model_selection import GridSearchCV\n",
    "from sklearn.neighbors import KNeighborsClassifier\n",
    "\n",
    "knn = KNeighborsClassifier()\n",
    "param_grid = {'n_neighbors': range(1, 21)}\n",
    "\n",
    "grid_search = GridSearchCV(knn, param_grid, cv=5)\n",
    "grid_search.fit(X_train, y_train)\n",
    "\n",
    "optimal_k = grid_search.best_params_['n_neighbors']\n",
    "print(f\"The optimal K value is: {optimal_k}\")"
   ]
  }
 ],
 "metadata": {
  "kernelspec": {
   "display_name": "Python 3",
   "language": "python",
   "name": "python3"
  },
  "language_info": {
   "codemirror_mode": {
    "name": "ipython",
    "version": 3
   },
   "file_extension": ".py",
   "mimetype": "text/x-python",
   "name": "python",
   "nbconvert_exporter": "python",
   "pygments_lexer": "ipython3",
   "version": "3.10.4"
  }
 },
 "nbformat": 4,
 "nbformat_minor": 2
}
