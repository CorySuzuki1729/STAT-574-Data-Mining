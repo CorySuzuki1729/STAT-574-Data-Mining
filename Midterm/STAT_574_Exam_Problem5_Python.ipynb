{
 "cells": [
  {
   "cell_type": "code",
   "execution_count": 1,
   "metadata": {},
   "outputs": [
    {
     "name": "stdout",
     "output_type": "stream",
     "text": [
      "accuracy: 0.92\n"
     ]
    }
   ],
   "source": [
    "# STAT 574 Midterm Exam Problem 5\n",
    "\n",
    "import pandas as pd\n",
    "from sklearn.model_selection import train_test_split\n",
    "from sklearn.neighbors import KNeighborsClassifier\n",
    "import matplotlib.pyplot as plt\n",
    "from statistics import mean\n",
    "from sklearn.metrics import accuracy_score\n",
    "\n",
    "card_data = pd.read_csv(\"C:/Users/coryg/OneDrive/Desktop/STAT_574_Data_Mining/card_transdata.csv\")\n",
    "X = card_data.iloc[:, 0:7].values \n",
    "y = card_data.iloc[:, 7].values\n",
    "\n",
    "# Splitting the data into 80% training and 20% testing sets. \n",
    "\n",
    "X_train, X_test, y_train, y_test = train_test_split(X, y, test_size=0.20,\n",
    "random_state=935112)\n",
    "\n",
    "# Fitting KNN Binary Classifier with k=9 (given in problem). \n",
    "\n",
    "knn_biclass = KNeighborsClassifier(n_neighbors=9)\n",
    "knn_biclassfit = knn_biclass.fit(X_train, y_train)\n",
    "\n",
    "# Computing prediction accuracy for testing data. \n",
    "\n",
    "y_pred = knn_biclassfit.predict(X_test)\n",
    "y_test = pd.DataFrame(y_test, columns=[\"fraud\"])\n",
    "y_pred = pd.DataFrame(y_pred, columns=[\"predicted\"])\n",
    "df = pd.concat([y_test, y_pred], axis=1)\n",
    "\n",
    "match = []\n",
    "for i in range(len(df)):\n",
    "    if df[\"fraud\"][i] == df[\"predicted\"][i]:\n",
    "        match.append(1)\n",
    "    else:\n",
    "        match.append(0)\n",
    "\n",
    "print(\"accuracy:\", mean(match)) "
   ]
  },
  {
   "cell_type": "code",
   "execution_count": 3,
   "metadata": {},
   "outputs": [
    {
     "name": "stdout",
     "output_type": "stream",
     "text": [
      "The optimal K value is: 9\n"
     ]
    }
   ],
   "source": [
    "from sklearn.model_selection import GridSearchCV\n",
    "from sklearn.neighbors import KNeighborsClassifier\n",
    "\n",
    "knn = KNeighborsClassifier()\n",
    "param_grid = {'n_neighbors': range(1, 21)}\n",
    "\n",
    "grid_search = GridSearchCV(knn, param_grid, cv=5)\n",
    "grid_search.fit(X_train, y_train)\n",
    "\n",
    "optimal_k = grid_search.best_params_['n_neighbors']\n",
    "print(f\"The optimal K value is: {optimal_k}\")"
   ]
  }
 ],
 "metadata": {
  "kernelspec": {
   "display_name": "Python 3",
   "language": "python",
   "name": "python3"
  },
  "language_info": {
   "codemirror_mode": {
    "name": "ipython",
    "version": 3
   },
   "file_extension": ".py",
   "mimetype": "text/x-python",
   "name": "python",
   "nbconvert_exporter": "python",
   "pygments_lexer": "ipython3",
   "version": "3.10.4"
  }
 },
 "nbformat": 4,
 "nbformat_minor": 2
}
