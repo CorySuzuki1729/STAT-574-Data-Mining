{
 "cells": [
  {
   "cell_type": "code",
   "execution_count": 1,
   "id": "993394f3",
   "metadata": {
    "scrolled": false
   },
   "outputs": [
    {
     "name": "stdout",
     "output_type": "stream",
     "text": [
      "  var_name  loss_reduction\n",
      "0      age        0.572954\n",
      "3  nmovies        0.269890\n",
      "2   member        0.084660\n",
      "1   gender        0.072495\n",
      "0.3026315789473684\n"
     ]
    }
   ],
   "source": [
    "import pandas\n",
    "from sklearn.model_selection import train_test_split\n",
    "from sklearn.ensemble import RandomForestClassifier\n",
    "\n",
    "movie_data=pandas.read_csv('C:/Users/000110888/Desktop/movie_data.csv')\n",
    "code_gender={'M':1,'F':0}\n",
    "code_member={'yes':1,'no':0}\n",
    "code_rating={'very bad':1,'bad':2,'okay':3,'good':4,'very good':5}\n",
    "\n",
    "movie_data['gender']=movie_data['gender'].map(code_gender)\n",
    "movie_data['member']=movie_data['member'].map(code_member)\n",
    "movie_data['rating']=movie_data['rating'].map(code_rating)\n",
    "\n",
    "X=movie_data.iloc[:,0:4].values\n",
    "y=movie_data.iloc[:,4].values\n",
    "\n",
    "#SPLITTING DATA INTO 80% TRAINING AND 20% TESTING SETS\n",
    "X_train, X_test, y_train, y_test=train_test_split(X, y, test_size=0.20, random_state=599555)\n",
    "\n",
    "#FITTING RANDOM FOREST FOR MULTINOMIAL CLASSIFIER \n",
    "rf_class=RandomForestClassifier(n_estimators=150, random_state=663474, max_depth=50, max_features=4)\n",
    "rf_class.fit(X_train, y_train)\n",
    "\n",
    "#DISPLAYING VARIABLE IMPORTANCE\n",
    "from sklearn.ensemble import ExtraTreesClassifier\n",
    "\n",
    "var_names=pandas.DataFrame(['age','gender','member','nmovies'], columns=['var_name'])\n",
    "loss_reduction=pandas.DataFrame(rf_class.feature_importances_, columns=['loss_reduction'])\n",
    "var_importance=pandas.concat([var_names, loss_reduction], axis=1) \n",
    "var_importance=var_importance.sort_values(\"loss_reduction\", axis=0, ascending=False)\n",
    "print(var_importance)\n",
    "\n",
    "#COMPUTING PREDICTION ACCURACY FOR TESTING DATA\n",
    "y_pred=rf_class.predict(X_test)\n",
    "y_test=pandas.DataFrame(y_test,columns=['rating'])\n",
    "y_pred=pandas.DataFrame(y_pred,columns=['predicted'])\n",
    "df=pandas.concat([y_test,y_pred],axis=1)\n",
    "\n",
    "match=[]\n",
    "for i in range(len(df)):\n",
    "    if df['rating'][i]==df['predicted'][i]: \n",
    "        match.append(1)\n",
    "    else:\n",
    "        match.append(0)\n",
    "    \n",
    "accuracy=sum(match)/len(match)\n",
    "\n",
    "print(accuracy)\n"
   ]
  },
  {
   "cell_type": "code",
   "execution_count": null,
   "id": "c8666910",
   "metadata": {},
   "outputs": [],
   "source": []
  }
 ],
 "metadata": {
  "kernelspec": {
   "display_name": "Python 3 (ipykernel)",
   "language": "python",
   "name": "python3"
  },
  "language_info": {
   "codemirror_mode": {
    "name": "ipython",
    "version": 3
   },
   "file_extension": ".py",
   "mimetype": "text/x-python",
   "name": "python",
   "nbconvert_exporter": "python",
   "pygments_lexer": "ipython3",
   "version": "3.9.12"
  }
 },
 "nbformat": 4,
 "nbformat_minor": 5
}
