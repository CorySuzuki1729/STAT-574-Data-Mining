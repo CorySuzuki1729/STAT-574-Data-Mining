{
 "cells": [
  {
   "cell_type": "code",
   "execution_count": 2,
   "id": "993394f3",
   "metadata": {
    "scrolled": false
   },
   "outputs": [
    {
     "name": "stdout",
     "output_type": "stream",
     "text": [
      "      var_name  loss_reduction\n",
      "3        PM2_5        0.581401\n",
      "1          age        0.233343\n",
      "0       gender        0.095434\n",
      "2  tobacco_use        0.089823\n",
      "0.8121387283236994\n",
      "0.7803468208092486\n"
     ]
    }
   ],
   "source": [
    "import pandas\n",
    "from sklearn.model_selection import train_test_split\n",
    "from sklearn.ensemble import RandomForestClassifier\n",
    "\n",
    "pneumonia_data=pandas.read_csv('C:/Users/000110888/Desktop/pneumonia_data.csv')\n",
    "code_gender={'M':1,'F':0}\n",
    "code_tobacco_use={'yes':1,'no':0}\n",
    "code_pneumonia={'yes':1,'no':0}\n",
    "\n",
    "pneumonia_data['gender']=pneumonia_data['gender'].map(code_gender)\n",
    "pneumonia_data['tobacco_use']=pneumonia_data['tobacco_use'].map(code_tobacco_use)\n",
    "pneumonia_data['pneumonia']=pneumonia_data['pneumonia'].map(code_pneumonia)\n",
    "\n",
    "X=pneumonia_data.iloc[:,0:4].values\n",
    "y=pneumonia_data.iloc[:,4].values\n",
    "\n",
    "#SPLITTING DATA INTO 80% TRAINING AND 20% TESTING SETS\n",
    "X_train, X_test, y_train, y_test=train_test_split(X, y, test_size=0.20, \n",
    "random_state=786756)\n",
    "\n",
    "#FITTING RANDOM FOREST BINARY CLASSIFIER\n",
    "rf_class=RandomForestClassifier(n_estimators=150, criterion='entropy', \n",
    "random_state=778554, max_depth=50, max_features=4)\n",
    "rf_class.fit(X_train, y_train)\n",
    "\n",
    "#DISPLAYING VARIABLE IMPORTANCE\n",
    "from sklearn.ensemble import ExtraTreesClassifier\n",
    "\n",
    "var_names=pandas.DataFrame(['gender','age','tobacco_use','PM2_5'], columns=['var_name'])\n",
    "loss_reduction=pandas.DataFrame(rf_class.feature_importances_, columns=['loss_reduction'])\n",
    "var_importance=pandas.concat([var_names, loss_reduction], axis=1) \n",
    "var_importance=var_importance.sort_values(\"loss_reduction\", axis=0, ascending=False)\n",
    "print(var_importance)\n",
    "\n",
    "#COMPUTING PREDICTION ACCURACY FOR TESTING DATA\n",
    "y_pred=rf_class.predict(X_test)\n",
    "y_test=pandas.DataFrame(y_test,columns=['pneumonia'])\n",
    "y_pred=pandas.DataFrame(y_pred,columns=['predicted'])\n",
    "df=pandas.concat([y_test,y_pred],axis=1)\n",
    "\n",
    "match=[]\n",
    "for i in range(len(df)):\n",
    "    if df['pneumonia'][i]==df['predicted'][i]: \n",
    "        match.append(1)\n",
    "    else:\n",
    "        match.append(0)\n",
    "    \n",
    "accuracy=sum(match)/len(match)\n",
    "\n",
    "print(accuracy)\n"
   ]
  },
  {
   "cell_type": "code",
   "execution_count": null,
   "id": "f309cc44",
   "metadata": {},
   "outputs": [],
   "source": []
  }
 ],
 "metadata": {
  "kernelspec": {
   "display_name": "Python 3 (ipykernel)",
   "language": "python",
   "name": "python3"
  },
  "language_info": {
   "codemirror_mode": {
    "name": "ipython",
    "version": 3
   },
   "file_extension": ".py",
   "mimetype": "text/x-python",
   "name": "python",
   "nbconvert_exporter": "python",
   "pygments_lexer": "ipython3",
   "version": "3.9.12"
  }
 },
 "nbformat": 4,
 "nbformat_minor": 5
}
